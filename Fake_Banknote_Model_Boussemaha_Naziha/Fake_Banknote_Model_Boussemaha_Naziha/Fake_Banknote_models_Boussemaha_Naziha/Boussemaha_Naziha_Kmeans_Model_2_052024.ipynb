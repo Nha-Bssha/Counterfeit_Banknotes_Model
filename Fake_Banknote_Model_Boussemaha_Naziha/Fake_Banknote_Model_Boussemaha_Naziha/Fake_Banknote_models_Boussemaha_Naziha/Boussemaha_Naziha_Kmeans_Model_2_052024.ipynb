{
 "cells": [
  {
   "cell_type": "markdown",
   "metadata": {},
   "source": [
    "### import librairies"
   ]
  },
  {
   "cell_type": "code",
   "execution_count": 67,
   "metadata": {},
   "outputs": [],
   "source": [
    "# import librairies and functions needed for project\n",
    "\n",
    "# utilities\n",
    "import os\n",
    "os.environ[\"OMP_NUM_THREADS\"] = '1' # needed to avoid memory leak warning with K-Means in Windows environment\n",
    "from warnings import simplefilter\n",
    "simplefilter(action='ignore', category=FutureWarning) # ignore all future warnings\n",
    "\n",
    "# data\n",
    "import numpy as np\n",
    "import pandas as pd\n",
    "pd.set_option('display.max_colwidth', None) # maximise dataframe display\n",
    "\n",
    "# modelisation\n",
    "from sklearn.cluster import KMeans\n",
    "from sklearn.decomposition import PCA\n",
    "from sklearn.metrics import silhouette_score, davies_bouldin_score, confusion_matrix, accuracy_score\n",
    "from sklearn.preprocessing import StandardScaler\n",
    "from sklearn.model_selection import train_test_split\n",
    "from sklearn.metrics import rand_score\n",
    "from sklearn.metrics.cluster import adjusted_rand_score, normalized_mutual_info_score, adjusted_mutual_info_score, fowlkes_mallows_score\n",
    "\n",
    "# visualisation\n",
    "import matplotlib.pyplot as plt\n",
    "import plotly.graph_objects as go\n",
    "import seaborn as sns\n",
    "sns.set(rc={'figure.figsize':(8,8), 'axes.facecolor':'white', 'figure.facecolor':'gainsboro'})"
   ]
  },
  {
   "cell_type": "code",
   "execution_count": 68,
   "metadata": {},
   "outputs": [],
   "source": [
    "# Import data & split file\n",
    "data = pd.read_csv(\"df_final.csv\", encoding='latin_1')"
   ]
  },
  {
   "cell_type": "markdown",
   "metadata": {},
   "source": [
    "### train_test_split de notre jeu de données df_final (1500, 7)"
   ]
  },
  {
   "cell_type": "code",
   "execution_count": 69,
   "metadata": {},
   "outputs": [],
   "source": [
    "data['is_genuine'] = data['is_genuine'].map({0: False, 1: True})"
   ]
  },
  {
   "cell_type": "code",
   "execution_count": 70,
   "metadata": {},
   "outputs": [
    {
     "name": "stdout",
     "output_type": "stream",
     "text": [
      "Nous avons x_train de forme (1200, 6) et y_train de forme (1200,)\n",
      "True/False mix in training set:\n",
      " [[  0 390]\n",
      " [  1 810]]\n",
      "Nous avons x_test de forme (300, 6) et y_test de forme (300,)\n",
      "True/False mix in testing set:\n",
      " [[  0 110]\n",
      " [  1 190]]\n"
     ]
    }
   ],
   "source": [
    "# include all variables\n",
    "x = data[['diagonal', 'height_left', 'height_right', 'margin_low', 'margin_up', 'length']].values\n",
    "y = data['is_genuine']\n",
    "\n",
    "# labels\n",
    "dimensions = data.columns.drop('is_genuine')\n",
    "\n",
    "# create train & test data sets\n",
    "x_train, x_test, y_train, y_test = train_test_split(x, y, test_size=0.2, random_state=42, shuffle=True, stratify=None)\n",
    "\n",
    "print(f\"Nous avons x_train de forme {x_train.shape} et y_train de forme {y_train.shape}\")\n",
    "unique_yt, counts_yt = np.unique(y_train, return_counts=True)\n",
    "print(\"True/False mix in training set:\\n\", np.asarray((unique_yt, counts_yt)).T)\n",
    "print(f\"Nous avons x_test de forme {x_test.shape} et y_test de forme {y_test.shape}\")\n",
    "unique_ytt, counts_ytt = np.unique(y_test, return_counts=True)\n",
    "print(\"True/False mix in testing set:\\n\", np.asarray((unique_ytt, counts_ytt)).T)"
   ]
  },
  {
   "cell_type": "markdown",
   "metadata": {},
   "source": [
    "### Standardisation du jeu d'entrainement"
   ]
  },
  {
   "cell_type": "code",
   "execution_count": 71,
   "metadata": {},
   "outputs": [],
   "source": [
    "# export training & testing sets to re-use for training logistic regression model\n",
    "pd.DataFrame(x_train, columns=dimensions).to_csv('x_training_set.csv', index=None, encoding='latin_1')\n",
    "y_train.to_csv('y_training_set.csv', index=False, encoding='latin_1')\n",
    "pd.DataFrame(x_test, columns=dimensions).to_csv('x_testing_set.csv', index=None, encoding='latin_1')\n",
    "y_test.to_csv('y_testing_set.csv', index=False, encoding='latin_1')\n",
    "\n",
    "# center & reduce data\n",
    "std_scaler = StandardScaler()\n",
    "x_train_scaled = std_scaler.fit_transform(x_train)"
   ]
  },
  {
   "cell_type": "markdown",
   "metadata": {},
   "source": [
    "### Création d'un dataframe \"clusters\" des données normalisées"
   ]
  },
  {
   "cell_type": "code",
   "execution_count": 72,
   "metadata": {},
   "outputs": [
    {
     "data": {
      "text/plain": [
       "is_genuine\n",
       "True     810\n",
       "False    390\n",
       "Name: count, dtype: int64"
      ]
     },
     "execution_count": 72,
     "metadata": {},
     "output_type": "execute_result"
    }
   ],
   "source": [
    "clusters = pd.DataFrame(y_train)\n",
    "clusters[['diagonal', 'height_left', 'height_right', 'margin_low', 'margin_up',\n",
    "          'length']] = x_train_scaled\n",
    "clusters['is_genuine'].value_counts()"
   ]
  },
  {
   "cell_type": "markdown",
   "metadata": {},
   "source": [
    "## Entrainement de l'algorithme K-means à 2 clusters"
   ]
  },
  {
   "cell_type": "code",
   "execution_count": 73,
   "metadata": {},
   "outputs": [],
   "source": [
    "# run K-means\n",
    "kmeans_2 = KMeans(n_clusters=2, random_state=808, n_init=\"auto\")\n",
    "kmeans_2.fit(x_train_scaled)\n",
    "labels_2 = kmeans_2.labels_\n",
    "\n",
    "# add cluster number to each line in \"clusters dataframe\"\n",
    "clusters['cluster_km_2'] = (kmeans_2.labels_)"
   ]
  },
  {
   "cell_type": "code",
   "execution_count": 74,
   "metadata": {},
   "outputs": [
    {
     "name": "stdout",
     "output_type": "stream",
     "text": [
      "Inertie: 4655.52 - Nb iterations: 5 \n"
     ]
    }
   ],
   "source": [
    "inertie_2 = round(kmeans_2.inertia_, 2)\n",
    "print(f\"Inertie: {inertie_2} - Nb iterations: {kmeans_2.n_iter_} \")"
   ]
  },
  {
   "cell_type": "code",
   "execution_count": 75,
   "metadata": {},
   "outputs": [
    {
     "data": {
      "text/html": [
       "<div>\n",
       "<style scoped>\n",
       "    .dataframe tbody tr th:only-of-type {\n",
       "        vertical-align: middle;\n",
       "    }\n",
       "\n",
       "    .dataframe tbody tr th {\n",
       "        vertical-align: top;\n",
       "    }\n",
       "\n",
       "    .dataframe thead th {\n",
       "        text-align: right;\n",
       "    }\n",
       "</style>\n",
       "<table border=\"1\" class=\"dataframe\">\n",
       "  <thead>\n",
       "    <tr style=\"text-align: right;\">\n",
       "      <th></th>\n",
       "      <th>is_genuine</th>\n",
       "      <th>diagonal</th>\n",
       "      <th>height_left</th>\n",
       "      <th>height_right</th>\n",
       "      <th>margin_low</th>\n",
       "      <th>margin_up</th>\n",
       "      <th>length</th>\n",
       "      <th>cluster_km_2</th>\n",
       "    </tr>\n",
       "  </thead>\n",
       "  <tbody>\n",
       "    <tr>\n",
       "      <th>382</th>\n",
       "      <td>True</td>\n",
       "      <td>1.050853</td>\n",
       "      <td>1.958416</td>\n",
       "      <td>-0.367712</td>\n",
       "      <td>-0.597273</td>\n",
       "      <td>-0.306118</td>\n",
       "      <td>0.648529</td>\n",
       "      <td>0</td>\n",
       "    </tr>\n",
       "    <tr>\n",
       "      <th>538</th>\n",
       "      <td>True</td>\n",
       "      <td>-0.185700</td>\n",
       "      <td>1.559864</td>\n",
       "      <td>-1.317963</td>\n",
       "      <td>-0.597273</td>\n",
       "      <td>-1.428167</td>\n",
       "      <td>0.921625</td>\n",
       "      <td>0</td>\n",
       "    </tr>\n",
       "    <tr>\n",
       "      <th>1493</th>\n",
       "      <td>False</td>\n",
       "      <td>-1.064303</td>\n",
       "      <td>0.995247</td>\n",
       "      <td>2.115204</td>\n",
       "      <td>0.618912</td>\n",
       "      <td>0.859087</td>\n",
       "      <td>-0.603164</td>\n",
       "      <td>1</td>\n",
       "    </tr>\n",
       "    <tr>\n",
       "      <th>1112</th>\n",
       "      <td>False</td>\n",
       "      <td>0.334954</td>\n",
       "      <td>0.829184</td>\n",
       "      <td>1.195606</td>\n",
       "      <td>1.728680</td>\n",
       "      <td>0.513841</td>\n",
       "      <td>-1.229011</td>\n",
       "      <td>1</td>\n",
       "    </tr>\n",
       "    <tr>\n",
       "      <th>324</th>\n",
       "      <td>True</td>\n",
       "      <td>0.465117</td>\n",
       "      <td>1.294162</td>\n",
       "      <td>-0.980777</td>\n",
       "      <td>-0.445250</td>\n",
       "      <td>-1.126077</td>\n",
       "      <td>0.716803</td>\n",
       "      <td>0</td>\n",
       "    </tr>\n",
       "  </tbody>\n",
       "</table>\n",
       "</div>"
      ],
      "text/plain": [
       "      is_genuine  diagonal  height_left  height_right  margin_low  margin_up   \n",
       "382         True  1.050853     1.958416     -0.367712   -0.597273  -0.306118  \\\n",
       "538         True -0.185700     1.559864     -1.317963   -0.597273  -1.428167   \n",
       "1493       False -1.064303     0.995247      2.115204    0.618912   0.859087   \n",
       "1112       False  0.334954     0.829184      1.195606    1.728680   0.513841   \n",
       "324         True  0.465117     1.294162     -0.980777   -0.445250  -1.126077   \n",
       "\n",
       "        length  cluster_km_2  \n",
       "382   0.648529             0  \n",
       "538   0.921625             0  \n",
       "1493 -0.603164             1  \n",
       "1112 -1.229011             1  \n",
       "324   0.716803             0  "
      ]
     },
     "execution_count": 75,
     "metadata": {},
     "output_type": "execute_result"
    }
   ],
   "source": [
    "clusters.head()"
   ]
  },
  {
   "cell_type": "markdown",
   "metadata": {},
   "source": [
    "### Analyse des centroïdes"
   ]
  },
  {
   "cell_type": "code",
   "execution_count": 76,
   "metadata": {},
   "outputs": [
    {
     "data": {
      "text/html": [
       "<div>\n",
       "<style scoped>\n",
       "    .dataframe tbody tr th:only-of-type {\n",
       "        vertical-align: middle;\n",
       "    }\n",
       "\n",
       "    .dataframe tbody tr th {\n",
       "        vertical-align: top;\n",
       "    }\n",
       "\n",
       "    .dataframe thead th {\n",
       "        text-align: right;\n",
       "    }\n",
       "</style>\n",
       "<table border=\"1\" class=\"dataframe\">\n",
       "  <thead>\n",
       "    <tr style=\"text-align: right;\">\n",
       "      <th></th>\n",
       "      <th>diagonal</th>\n",
       "      <th>height_left</th>\n",
       "      <th>height_right</th>\n",
       "      <th>margin_low</th>\n",
       "      <th>margin_up</th>\n",
       "      <th>length</th>\n",
       "    </tr>\n",
       "  </thead>\n",
       "  <tbody>\n",
       "    <tr>\n",
       "      <th>0</th>\n",
       "      <td>0.089125</td>\n",
       "      <td>-0.262568</td>\n",
       "      <td>-0.341261</td>\n",
       "      <td>-0.537078</td>\n",
       "      <td>-0.415777</td>\n",
       "      <td>0.582539</td>\n",
       "    </tr>\n",
       "    <tr>\n",
       "      <th>1</th>\n",
       "      <td>-0.190118</td>\n",
       "      <td>0.560100</td>\n",
       "      <td>0.727963</td>\n",
       "      <td>1.145673</td>\n",
       "      <td>0.886919</td>\n",
       "      <td>-1.242648</td>\n",
       "    </tr>\n",
       "  </tbody>\n",
       "</table>\n",
       "</div>"
      ],
      "text/plain": [
       "   diagonal  height_left  height_right  margin_low  margin_up    length\n",
       "0  0.089125    -0.262568     -0.341261   -0.537078  -0.415777  0.582539\n",
       "1 -0.190118     0.560100      0.727963    1.145673   0.886919 -1.242648"
      ]
     },
     "execution_count": 76,
     "metadata": {},
     "output_type": "execute_result"
    }
   ],
   "source": [
    "# create centroids dataframe\n",
    "centroids_2 = kmeans_2.cluster_centers_\n",
    "centroids_km_2 = pd.DataFrame(centroids_2)\n",
    "centroids_km_2.columns = dimensions\n",
    "centroids_km_2"
   ]
  },
  {
   "cell_type": "code",
   "execution_count": 77,
   "metadata": {},
   "outputs": [
    {
     "data": {
      "application/vnd.plotly.v1+json": {
       "config": {
        "plotlyServerURL": "https://plot.ly"
       },
       "data": [
        {
         "fill": "toself",
         "name": "Cluster 1 centroide",
         "opacity": 0.5,
         "r": [
          0.08912507270723435,
          -0.26256815637066316,
          -0.34126054609845513,
          -0.5370778896217574,
          -0.4157769942480501,
          0.582538654046424
         ],
         "theta": [
          "diagonal",
          "height_left",
          "height_right",
          "margin_low",
          "margin_up",
          "length"
         ],
         "type": "scatterpolar"
        },
        {
         "fill": "toself",
         "name": "Cluster 2 centroide",
         "opacity": 0.5,
         "r": [
          -0.19011797493824564,
          0.5600996964877563,
          0.7279630970308838,
          1.1456726783837694,
          0.8869185490878857,
          -1.2426477293885425
         ],
         "theta": [
          "diagonal",
          "height_left",
          "height_right",
          "margin_low",
          "margin_up",
          "length"
         ],
         "type": "scatterpolar"
        }
       ],
       "layout": {
        "template": {
         "data": {
          "bar": [
           {
            "error_x": {
             "color": "#2a3f5f"
            },
            "error_y": {
             "color": "#2a3f5f"
            },
            "marker": {
             "line": {
              "color": "#E5ECF6",
              "width": 0.5
             },
             "pattern": {
              "fillmode": "overlay",
              "size": 10,
              "solidity": 0.2
             }
            },
            "type": "bar"
           }
          ],
          "barpolar": [
           {
            "marker": {
             "line": {
              "color": "#E5ECF6",
              "width": 0.5
             },
             "pattern": {
              "fillmode": "overlay",
              "size": 10,
              "solidity": 0.2
             }
            },
            "type": "barpolar"
           }
          ],
          "carpet": [
           {
            "aaxis": {
             "endlinecolor": "#2a3f5f",
             "gridcolor": "white",
             "linecolor": "white",
             "minorgridcolor": "white",
             "startlinecolor": "#2a3f5f"
            },
            "baxis": {
             "endlinecolor": "#2a3f5f",
             "gridcolor": "white",
             "linecolor": "white",
             "minorgridcolor": "white",
             "startlinecolor": "#2a3f5f"
            },
            "type": "carpet"
           }
          ],
          "choropleth": [
           {
            "colorbar": {
             "outlinewidth": 0,
             "ticks": ""
            },
            "type": "choropleth"
           }
          ],
          "contour": [
           {
            "colorbar": {
             "outlinewidth": 0,
             "ticks": ""
            },
            "colorscale": [
             [
              0,
              "#0d0887"
             ],
             [
              0.1111111111111111,
              "#46039f"
             ],
             [
              0.2222222222222222,
              "#7201a8"
             ],
             [
              0.3333333333333333,
              "#9c179e"
             ],
             [
              0.4444444444444444,
              "#bd3786"
             ],
             [
              0.5555555555555556,
              "#d8576b"
             ],
             [
              0.6666666666666666,
              "#ed7953"
             ],
             [
              0.7777777777777778,
              "#fb9f3a"
             ],
             [
              0.8888888888888888,
              "#fdca26"
             ],
             [
              1,
              "#f0f921"
             ]
            ],
            "type": "contour"
           }
          ],
          "contourcarpet": [
           {
            "colorbar": {
             "outlinewidth": 0,
             "ticks": ""
            },
            "type": "contourcarpet"
           }
          ],
          "heatmap": [
           {
            "colorbar": {
             "outlinewidth": 0,
             "ticks": ""
            },
            "colorscale": [
             [
              0,
              "#0d0887"
             ],
             [
              0.1111111111111111,
              "#46039f"
             ],
             [
              0.2222222222222222,
              "#7201a8"
             ],
             [
              0.3333333333333333,
              "#9c179e"
             ],
             [
              0.4444444444444444,
              "#bd3786"
             ],
             [
              0.5555555555555556,
              "#d8576b"
             ],
             [
              0.6666666666666666,
              "#ed7953"
             ],
             [
              0.7777777777777778,
              "#fb9f3a"
             ],
             [
              0.8888888888888888,
              "#fdca26"
             ],
             [
              1,
              "#f0f921"
             ]
            ],
            "type": "heatmap"
           }
          ],
          "heatmapgl": [
           {
            "colorbar": {
             "outlinewidth": 0,
             "ticks": ""
            },
            "colorscale": [
             [
              0,
              "#0d0887"
             ],
             [
              0.1111111111111111,
              "#46039f"
             ],
             [
              0.2222222222222222,
              "#7201a8"
             ],
             [
              0.3333333333333333,
              "#9c179e"
             ],
             [
              0.4444444444444444,
              "#bd3786"
             ],
             [
              0.5555555555555556,
              "#d8576b"
             ],
             [
              0.6666666666666666,
              "#ed7953"
             ],
             [
              0.7777777777777778,
              "#fb9f3a"
             ],
             [
              0.8888888888888888,
              "#fdca26"
             ],
             [
              1,
              "#f0f921"
             ]
            ],
            "type": "heatmapgl"
           }
          ],
          "histogram": [
           {
            "marker": {
             "pattern": {
              "fillmode": "overlay",
              "size": 10,
              "solidity": 0.2
             }
            },
            "type": "histogram"
           }
          ],
          "histogram2d": [
           {
            "colorbar": {
             "outlinewidth": 0,
             "ticks": ""
            },
            "colorscale": [
             [
              0,
              "#0d0887"
             ],
             [
              0.1111111111111111,
              "#46039f"
             ],
             [
              0.2222222222222222,
              "#7201a8"
             ],
             [
              0.3333333333333333,
              "#9c179e"
             ],
             [
              0.4444444444444444,
              "#bd3786"
             ],
             [
              0.5555555555555556,
              "#d8576b"
             ],
             [
              0.6666666666666666,
              "#ed7953"
             ],
             [
              0.7777777777777778,
              "#fb9f3a"
             ],
             [
              0.8888888888888888,
              "#fdca26"
             ],
             [
              1,
              "#f0f921"
             ]
            ],
            "type": "histogram2d"
           }
          ],
          "histogram2dcontour": [
           {
            "colorbar": {
             "outlinewidth": 0,
             "ticks": ""
            },
            "colorscale": [
             [
              0,
              "#0d0887"
             ],
             [
              0.1111111111111111,
              "#46039f"
             ],
             [
              0.2222222222222222,
              "#7201a8"
             ],
             [
              0.3333333333333333,
              "#9c179e"
             ],
             [
              0.4444444444444444,
              "#bd3786"
             ],
             [
              0.5555555555555556,
              "#d8576b"
             ],
             [
              0.6666666666666666,
              "#ed7953"
             ],
             [
              0.7777777777777778,
              "#fb9f3a"
             ],
             [
              0.8888888888888888,
              "#fdca26"
             ],
             [
              1,
              "#f0f921"
             ]
            ],
            "type": "histogram2dcontour"
           }
          ],
          "mesh3d": [
           {
            "colorbar": {
             "outlinewidth": 0,
             "ticks": ""
            },
            "type": "mesh3d"
           }
          ],
          "parcoords": [
           {
            "line": {
             "colorbar": {
              "outlinewidth": 0,
              "ticks": ""
             }
            },
            "type": "parcoords"
           }
          ],
          "pie": [
           {
            "automargin": true,
            "type": "pie"
           }
          ],
          "scatter": [
           {
            "fillpattern": {
             "fillmode": "overlay",
             "size": 10,
             "solidity": 0.2
            },
            "type": "scatter"
           }
          ],
          "scatter3d": [
           {
            "line": {
             "colorbar": {
              "outlinewidth": 0,
              "ticks": ""
             }
            },
            "marker": {
             "colorbar": {
              "outlinewidth": 0,
              "ticks": ""
             }
            },
            "type": "scatter3d"
           }
          ],
          "scattercarpet": [
           {
            "marker": {
             "colorbar": {
              "outlinewidth": 0,
              "ticks": ""
             }
            },
            "type": "scattercarpet"
           }
          ],
          "scattergeo": [
           {
            "marker": {
             "colorbar": {
              "outlinewidth": 0,
              "ticks": ""
             }
            },
            "type": "scattergeo"
           }
          ],
          "scattergl": [
           {
            "marker": {
             "colorbar": {
              "outlinewidth": 0,
              "ticks": ""
             }
            },
            "type": "scattergl"
           }
          ],
          "scattermapbox": [
           {
            "marker": {
             "colorbar": {
              "outlinewidth": 0,
              "ticks": ""
             }
            },
            "type": "scattermapbox"
           }
          ],
          "scatterpolar": [
           {
            "marker": {
             "colorbar": {
              "outlinewidth": 0,
              "ticks": ""
             }
            },
            "type": "scatterpolar"
           }
          ],
          "scatterpolargl": [
           {
            "marker": {
             "colorbar": {
              "outlinewidth": 0,
              "ticks": ""
             }
            },
            "type": "scatterpolargl"
           }
          ],
          "scatterternary": [
           {
            "marker": {
             "colorbar": {
              "outlinewidth": 0,
              "ticks": ""
             }
            },
            "type": "scatterternary"
           }
          ],
          "surface": [
           {
            "colorbar": {
             "outlinewidth": 0,
             "ticks": ""
            },
            "colorscale": [
             [
              0,
              "#0d0887"
             ],
             [
              0.1111111111111111,
              "#46039f"
             ],
             [
              0.2222222222222222,
              "#7201a8"
             ],
             [
              0.3333333333333333,
              "#9c179e"
             ],
             [
              0.4444444444444444,
              "#bd3786"
             ],
             [
              0.5555555555555556,
              "#d8576b"
             ],
             [
              0.6666666666666666,
              "#ed7953"
             ],
             [
              0.7777777777777778,
              "#fb9f3a"
             ],
             [
              0.8888888888888888,
              "#fdca26"
             ],
             [
              1,
              "#f0f921"
             ]
            ],
            "type": "surface"
           }
          ],
          "table": [
           {
            "cells": {
             "fill": {
              "color": "#EBF0F8"
             },
             "line": {
              "color": "white"
             }
            },
            "header": {
             "fill": {
              "color": "#C8D4E3"
             },
             "line": {
              "color": "white"
             }
            },
            "type": "table"
           }
          ]
         },
         "layout": {
          "annotationdefaults": {
           "arrowcolor": "#2a3f5f",
           "arrowhead": 0,
           "arrowwidth": 1
          },
          "autotypenumbers": "strict",
          "coloraxis": {
           "colorbar": {
            "outlinewidth": 0,
            "ticks": ""
           }
          },
          "colorscale": {
           "diverging": [
            [
             0,
             "#8e0152"
            ],
            [
             0.1,
             "#c51b7d"
            ],
            [
             0.2,
             "#de77ae"
            ],
            [
             0.3,
             "#f1b6da"
            ],
            [
             0.4,
             "#fde0ef"
            ],
            [
             0.5,
             "#f7f7f7"
            ],
            [
             0.6,
             "#e6f5d0"
            ],
            [
             0.7,
             "#b8e186"
            ],
            [
             0.8,
             "#7fbc41"
            ],
            [
             0.9,
             "#4d9221"
            ],
            [
             1,
             "#276419"
            ]
           ],
           "sequential": [
            [
             0,
             "#0d0887"
            ],
            [
             0.1111111111111111,
             "#46039f"
            ],
            [
             0.2222222222222222,
             "#7201a8"
            ],
            [
             0.3333333333333333,
             "#9c179e"
            ],
            [
             0.4444444444444444,
             "#bd3786"
            ],
            [
             0.5555555555555556,
             "#d8576b"
            ],
            [
             0.6666666666666666,
             "#ed7953"
            ],
            [
             0.7777777777777778,
             "#fb9f3a"
            ],
            [
             0.8888888888888888,
             "#fdca26"
            ],
            [
             1,
             "#f0f921"
            ]
           ],
           "sequentialminus": [
            [
             0,
             "#0d0887"
            ],
            [
             0.1111111111111111,
             "#46039f"
            ],
            [
             0.2222222222222222,
             "#7201a8"
            ],
            [
             0.3333333333333333,
             "#9c179e"
            ],
            [
             0.4444444444444444,
             "#bd3786"
            ],
            [
             0.5555555555555556,
             "#d8576b"
            ],
            [
             0.6666666666666666,
             "#ed7953"
            ],
            [
             0.7777777777777778,
             "#fb9f3a"
            ],
            [
             0.8888888888888888,
             "#fdca26"
            ],
            [
             1,
             "#f0f921"
            ]
           ]
          },
          "colorway": [
           "#636efa",
           "#EF553B",
           "#00cc96",
           "#ab63fa",
           "#FFA15A",
           "#19d3f3",
           "#FF6692",
           "#B6E880",
           "#FF97FF",
           "#FECB52"
          ],
          "font": {
           "color": "#2a3f5f"
          },
          "geo": {
           "bgcolor": "white",
           "lakecolor": "white",
           "landcolor": "#E5ECF6",
           "showlakes": true,
           "showland": true,
           "subunitcolor": "white"
          },
          "hoverlabel": {
           "align": "left"
          },
          "hovermode": "closest",
          "mapbox": {
           "style": "light"
          },
          "paper_bgcolor": "white",
          "plot_bgcolor": "#E5ECF6",
          "polar": {
           "angularaxis": {
            "gridcolor": "white",
            "linecolor": "white",
            "ticks": ""
           },
           "bgcolor": "#E5ECF6",
           "radialaxis": {
            "gridcolor": "white",
            "linecolor": "white",
            "ticks": ""
           }
          },
          "scene": {
           "xaxis": {
            "backgroundcolor": "#E5ECF6",
            "gridcolor": "white",
            "gridwidth": 2,
            "linecolor": "white",
            "showbackground": true,
            "ticks": "",
            "zerolinecolor": "white"
           },
           "yaxis": {
            "backgroundcolor": "#E5ECF6",
            "gridcolor": "white",
            "gridwidth": 2,
            "linecolor": "white",
            "showbackground": true,
            "ticks": "",
            "zerolinecolor": "white"
           },
           "zaxis": {
            "backgroundcolor": "#E5ECF6",
            "gridcolor": "white",
            "gridwidth": 2,
            "linecolor": "white",
            "showbackground": true,
            "ticks": "",
            "zerolinecolor": "white"
           }
          },
          "shapedefaults": {
           "line": {
            "color": "#2a3f5f"
           }
          },
          "ternary": {
           "aaxis": {
            "gridcolor": "white",
            "linecolor": "white",
            "ticks": ""
           },
           "baxis": {
            "gridcolor": "white",
            "linecolor": "white",
            "ticks": ""
           },
           "bgcolor": "#E5ECF6",
           "caxis": {
            "gridcolor": "white",
            "linecolor": "white",
            "ticks": ""
           }
          },
          "title": {
           "x": 0.05
          },
          "xaxis": {
           "automargin": true,
           "gridcolor": "white",
           "linecolor": "white",
           "ticks": "",
           "title": {
            "standoff": 15
           },
           "zerolinecolor": "white",
           "zerolinewidth": 2
          },
          "yaxis": {
           "automargin": true,
           "gridcolor": "white",
           "linecolor": "white",
           "ticks": "",
           "title": {
            "standoff": 15
           },
           "zerolinecolor": "white",
           "zerolinewidth": 2
          }
         }
        }
       }
      }
     },
     "metadata": {},
     "output_type": "display_data"
    }
   ],
   "source": [
    "# plot polar chart centroids\n",
    "categories = centroids_km_2.columns\n",
    "fig = go.Figure()\n",
    "fig.add_trace(go.Scatterpolar(r=centroids_km_2.iloc[0], theta=categories, fill='toself', name='Cluster 1 centroide'))\n",
    "fig.add_trace(go.Scatterpolar(r=centroids_km_2.iloc[1], theta=categories, fill='toself', name='Cluster 2 centroide'))\n",
    "fig.update_traces(opacity=0.5, selector=dict(type='scatterpolar'))\n",
    "fig.show()"
   ]
  },
  {
   "cell_type": "code",
   "execution_count": 78,
   "metadata": {},
   "outputs": [],
   "source": [
    "# Remplacer les valeurs de la colonne \"cluster_km_2\" par leur inverse\n",
    "clusters['cluster_km_2'] = clusters['cluster_km_2'].map({0:'vrai_billet', 1:'faux_billet'})"
   ]
  },
  {
   "cell_type": "code",
   "execution_count": 79,
   "metadata": {},
   "outputs": [
    {
     "data": {
      "text/html": [
       "<div>\n",
       "<style scoped>\n",
       "    .dataframe tbody tr th:only-of-type {\n",
       "        vertical-align: middle;\n",
       "    }\n",
       "\n",
       "    .dataframe tbody tr th {\n",
       "        vertical-align: top;\n",
       "    }\n",
       "\n",
       "    .dataframe thead th {\n",
       "        text-align: right;\n",
       "    }\n",
       "</style>\n",
       "<table border=\"1\" class=\"dataframe\">\n",
       "  <thead>\n",
       "    <tr style=\"text-align: right;\">\n",
       "      <th></th>\n",
       "      <th>is_genuine</th>\n",
       "      <th>diagonal</th>\n",
       "      <th>height_left</th>\n",
       "      <th>height_right</th>\n",
       "      <th>margin_low</th>\n",
       "      <th>margin_up</th>\n",
       "      <th>length</th>\n",
       "      <th>cluster_km_2</th>\n",
       "    </tr>\n",
       "  </thead>\n",
       "  <tbody>\n",
       "    <tr>\n",
       "      <th>382</th>\n",
       "      <td>True</td>\n",
       "      <td>1.050853</td>\n",
       "      <td>1.958416</td>\n",
       "      <td>-0.367712</td>\n",
       "      <td>-0.597273</td>\n",
       "      <td>-0.306118</td>\n",
       "      <td>0.648529</td>\n",
       "      <td>vrai_billet</td>\n",
       "    </tr>\n",
       "    <tr>\n",
       "      <th>538</th>\n",
       "      <td>True</td>\n",
       "      <td>-0.185700</td>\n",
       "      <td>1.559864</td>\n",
       "      <td>-1.317963</td>\n",
       "      <td>-0.597273</td>\n",
       "      <td>-1.428167</td>\n",
       "      <td>0.921625</td>\n",
       "      <td>vrai_billet</td>\n",
       "    </tr>\n",
       "    <tr>\n",
       "      <th>1493</th>\n",
       "      <td>False</td>\n",
       "      <td>-1.064303</td>\n",
       "      <td>0.995247</td>\n",
       "      <td>2.115204</td>\n",
       "      <td>0.618912</td>\n",
       "      <td>0.859087</td>\n",
       "      <td>-0.603164</td>\n",
       "      <td>faux_billet</td>\n",
       "    </tr>\n",
       "    <tr>\n",
       "      <th>1112</th>\n",
       "      <td>False</td>\n",
       "      <td>0.334954</td>\n",
       "      <td>0.829184</td>\n",
       "      <td>1.195606</td>\n",
       "      <td>1.728680</td>\n",
       "      <td>0.513841</td>\n",
       "      <td>-1.229011</td>\n",
       "      <td>faux_billet</td>\n",
       "    </tr>\n",
       "    <tr>\n",
       "      <th>324</th>\n",
       "      <td>True</td>\n",
       "      <td>0.465117</td>\n",
       "      <td>1.294162</td>\n",
       "      <td>-0.980777</td>\n",
       "      <td>-0.445250</td>\n",
       "      <td>-1.126077</td>\n",
       "      <td>0.716803</td>\n",
       "      <td>vrai_billet</td>\n",
       "    </tr>\n",
       "  </tbody>\n",
       "</table>\n",
       "</div>"
      ],
      "text/plain": [
       "      is_genuine  diagonal  height_left  height_right  margin_low  margin_up   \n",
       "382         True  1.050853     1.958416     -0.367712   -0.597273  -0.306118  \\\n",
       "538         True -0.185700     1.559864     -1.317963   -0.597273  -1.428167   \n",
       "1493       False -1.064303     0.995247      2.115204    0.618912   0.859087   \n",
       "1112       False  0.334954     0.829184      1.195606    1.728680   0.513841   \n",
       "324         True  0.465117     1.294162     -0.980777   -0.445250  -1.126077   \n",
       "\n",
       "        length cluster_km_2  \n",
       "382   0.648529  vrai_billet  \n",
       "538   0.921625  vrai_billet  \n",
       "1493 -0.603164  faux_billet  \n",
       "1112 -1.229011  faux_billet  \n",
       "324   0.716803  vrai_billet  "
      ]
     },
     "execution_count": 79,
     "metadata": {},
     "output_type": "execute_result"
    }
   ],
   "source": [
    "clusters.head()"
   ]
  },
  {
   "cell_type": "markdown",
   "metadata": {},
   "source": [
    "### Matrice de confusion - KMeans 2 clusters - train set"
   ]
  },
  {
   "cell_type": "code",
   "execution_count": 53,
   "metadata": {},
   "outputs": [
    {
     "name": "stdout",
     "output_type": "stream",
     "text": [
      "Matrice de confusion :\n",
      "[[377  13]\n",
      " [  6 804]]\n"
     ]
    }
   ],
   "source": [
    "from sklearn.metrics import confusion_matrix\n",
    "\n",
    "# Calculer la matrice de confusion avec les nouvelles étiquettes prédites\n",
    "confusion_matrix_result = confusion_matrix(clusters['is_genuine'], clusters['cluster_km_2'])\n",
    "\n",
    "# Afficher la matrice de confusion\n",
    "print(\"Matrice de confusion :\")\n",
    "print(confusion_matrix_result)\n"
   ]
  },
  {
   "cell_type": "code",
   "execution_count": 16,
   "metadata": {},
   "outputs": [],
   "source": [
    "import numpy as np\n",
    "import seaborn as sns\n",
    "import matplotlib.pyplot as plt\n",
    "from sklearn import metrics\n",
    "\n",
    "def matrice_confusion(a, b, nom_graphique):\n",
    "    confusion_matrix = metrics.confusion_matrix(a, b)\n",
    "    group_names = ['Vrais négatifs','Faux positifs', 'Faux négatifs', 'Vrais positifs']\n",
    "    group_counts = ['{0:0.0f}'.format(value) for value in confusion_matrix.flatten()]\n",
    "    group_percentages = ['{0:.2%}'.format(value) for value in confusion_matrix.flatten() / np.sum(confusion_matrix)]\n",
    "    labels = [f'{v1}\\n{v2}\\n{v3}' for v1, v2, v3 in zip(group_names, group_counts, group_percentages)]\n",
    "    labels = np.asarray(labels).reshape(2, 2)\n",
    "    sns.heatmap(confusion_matrix, annot=labels, fmt='', cmap='Blues')\n",
    "    plt.title(nom_graphique)\n",
    "    plt.show()\n",
    "    \n",
    "    classification = metrics.classification_report(a, b)\n",
    "    print(classification)"
   ]
  },
  {
   "cell_type": "code",
   "execution_count": 17,
   "metadata": {},
   "outputs": [
    {
     "data": {
      "image/png": "[encoded data removed]",
      "text/plain": [
       "<Figure size 800x800 with 2 Axes>"
      ]
     },
     "metadata": {},
     "output_type": "display_data"
    },
    {
     "name": "stdout",
     "output_type": "stream",
     "text": [
      "              precision    recall  f1-score   support\n",
      "\n",
      "       False       0.98      0.97      0.98       390\n",
      "        True       0.98      0.99      0.99       810\n",
      "\n",
      "    accuracy                           0.98      1200\n",
      "   macro avg       0.98      0.98      0.98      1200\n",
      "weighted avg       0.98      0.98      0.98      1200\n",
      "\n"
     ]
    }
   ],
   "source": [
    "matrice_confusion(clusters['is_genuine'], clusters['cluster_km_2'], \"2_kmeans_Matrice_confusion - train set\")"
   ]
  },
  {
   "cell_type": "markdown",
   "metadata": {},
   "source": [
    "- Sur 810 vrais billets, 6 sont predits faux (0.7% de faux negatifs). \n",
    "\n",
    "- Sur 390 faux billets, 13 sont predits vrais (3.33% de faux positifs)."
   ]
  },
  {
   "cell_type": "markdown",
   "metadata": {},
   "source": [
    "### Performances du modèle à 2 Clusters sur train set"
   ]
  },
  {
   "cell_type": "code",
   "execution_count": 18,
   "metadata": {},
   "outputs": [
    {
     "name": "stdout",
     "output_type": "stream",
     "text": [
      "Rand score: 0.9688087294968029\n",
      "Adjusted rand score: 0.9366134581986845\n",
      "accuracy_score 0.9841666666666666\n",
      "MIB: 0.8740066833488348\n",
      "Adjusted MIB: 0.8739229387961293\n",
      "FM score: 0.9723037747907189\n"
     ]
    }
   ],
   "source": [
    "# calculate Rand score = (number of agreeing pairs) / (number of pairs)\n",
    "print(\"Rand score:\", rand_score(clusters['is_genuine'], clusters['cluster_km_2']))\n",
    "\n",
    "# calculate adjusted Rand score. Perfect labeling would be scored 1 and bad labelling or independent labelling is scored\n",
    "# 0 or negative.\n",
    "print(\"Adjusted rand score:\", adjusted_rand_score(clusters['is_genuine'], clusters['cluster_km_2']))\n",
    "\n",
    "from sklearn.metrics import accuracy_score\n",
    "\n",
    "print(\"accuracy_score\",accuracy_score(clusters['is_genuine'], clusters['cluster_km_2']))\n",
    "\n",
    "print(\"MIB:\", normalized_mutual_info_score (clusters['is_genuine'], clusters['cluster_km_2']))\n",
    "\n",
    "print(\"Adjusted MIB:\", adjusted_mutual_info_score(clusters['is_genuine'], clusters['cluster_km_2']))\n",
    "print(\"FM score:\", fowlkes_mallows_score(clusters['is_genuine'], clusters['cluster_km_2']))"
   ]
  },
  {
   "cell_type": "markdown",
   "metadata": {},
   "source": [
    "### Fowlkes-Mallows Score"
   ]
  },
  {
   "attachments": {
    "image-2.png": {
     "image/png": "[encoded data removed]"
    }
   },
   "cell_type": "markdown",
   "metadata": {},
   "source": [
    "![image-2.png](attachment:image-2.png)"
   ]
  },
  {
   "cell_type": "markdown",
   "metadata": {},
   "source": [
    "Le score Fowlkes-Mallows (FMI) est une mesure de similarité entre deux ensembles d'étiquettes, souvent utilisée pour évaluer la qualité des algorithmes de clustering. \n",
    "\n",
    "- Il est défini comme la racine carrée de la proportion du nombre de paires d'éléments qui sont dans la même classe à la fois dans les ensembles d'étiquettes et dans les clusters prédits, divisée par la racine carrée du produit du nombre total de paires d'éléments dans les deux ensembles."
   ]
  },
  {
   "cell_type": "markdown",
   "metadata": {},
   "source": [
    "Où :\n",
    "\n",
    "TP (True Positives) : Le nombre de paires d'éléments qui sont dans la même classe à la fois dans les ensembles d'étiquettes et dans les clusters prédits.\n",
    "FP (False Positives) : Le nombre de paires d'éléments qui sont dans la même classe dans les clusters prédits mais dans des classes différentes dans les ensembles d'étiquettes.\n",
    "FN (False Negatives) : Le nombre de paires d'éléments qui sont dans la même classe dans les ensembles d'étiquettes mais dans des clusters différents dans les clusters prédits.\n",
    "\n",
    "- Le score FMI varie entre 0 et 1, où 1 indique une parfaite correspondance entre les ensembles d'étiquettes et les clusters prédits, et 0 indique une absence de correspondance.\n",
    "\n",
    "En résumé, le score Fowlkes-Mallows mesure à quel point les clusters prédits correspondent aux vrais groupements des données, en tenant compte à la fois des vrais positifs, des faux positifs et des faux négatifs."
   ]
  },
  {
   "cell_type": "code",
   "execution_count": 19,
   "metadata": {},
   "outputs": [
    {
     "name": "stdout",
     "output_type": "stream",
     "text": [
      "FM score: 0.9723037747907189\n"
     ]
    }
   ],
   "source": [
    "print(\"FM score:\", fowlkes_mallows_score(clusters['is_genuine'], clusters['cluster_km_2']))"
   ]
  },
  {
   "cell_type": "markdown",
   "metadata": {},
   "source": [
    "Un score Fowlkes-Mallows (FMI) de 0.9723 est un excellent résultat, indiquant une très bonne similarité entre les ensembles d'étiquettes (les vrais groupements des données) et les clusters prédits par notre algorithme de clustering."
   ]
  },
  {
   "cell_type": "markdown",
   "metadata": {},
   "source": [
    "### Evaluation de la performance du K-means à 2 Clusters sur le \"testing set\""
   ]
  },
  {
   "cell_type": "code",
   "execution_count": 60,
   "metadata": {},
   "outputs": [
    {
     "data": {
      "text/html": [
       "<div>\n",
       "<style scoped>\n",
       "    .dataframe tbody tr th:only-of-type {\n",
       "        vertical-align: middle;\n",
       "    }\n",
       "\n",
       "    .dataframe tbody tr th {\n",
       "        vertical-align: top;\n",
       "    }\n",
       "\n",
       "    .dataframe thead th {\n",
       "        text-align: right;\n",
       "    }\n",
       "</style>\n",
       "<table border=\"1\" class=\"dataframe\">\n",
       "  <thead>\n",
       "    <tr style=\"text-align: right;\">\n",
       "      <th></th>\n",
       "      <th>is_genuine</th>\n",
       "      <th>diagonal</th>\n",
       "      <th>height_left</th>\n",
       "      <th>height_right</th>\n",
       "      <th>margin_low</th>\n",
       "      <th>margin_up</th>\n",
       "      <th>length</th>\n",
       "      <th>cluster_pred_test</th>\n",
       "    </tr>\n",
       "  </thead>\n",
       "  <tbody>\n",
       "    <tr>\n",
       "      <th>1116</th>\n",
       "      <td>False</td>\n",
       "      <td>0.985771</td>\n",
       "      <td>-0.432900</td>\n",
       "      <td>0.613193</td>\n",
       "      <td>0.786137</td>\n",
       "      <td>1.161177</td>\n",
       "      <td>-1.615898</td>\n",
       "      <td>False</td>\n",
       "    </tr>\n",
       "    <tr>\n",
       "      <th>1368</th>\n",
       "      <td>False</td>\n",
       "      <td>-0.999222</td>\n",
       "      <td>0.962034</td>\n",
       "      <td>1.410179</td>\n",
       "      <td>1.789489</td>\n",
       "      <td>0.384374</td>\n",
       "      <td>-0.443858</td>\n",
       "      <td>False</td>\n",
       "    </tr>\n",
       "    <tr>\n",
       "      <th>422</th>\n",
       "      <td>True</td>\n",
       "      <td>-1.389712</td>\n",
       "      <td>-1.661771</td>\n",
       "      <td>-0.888817</td>\n",
       "      <td>-0.658082</td>\n",
       "      <td>-0.823987</td>\n",
       "      <td>0.079577</td>\n",
       "      <td>True</td>\n",
       "    </tr>\n",
       "    <tr>\n",
       "      <th>413</th>\n",
       "      <td>True</td>\n",
       "      <td>1.115935</td>\n",
       "      <td>-1.230006</td>\n",
       "      <td>-1.287310</td>\n",
       "      <td>-0.487741</td>\n",
       "      <td>0.039128</td>\n",
       "      <td>0.295779</td>\n",
       "      <td>True</td>\n",
       "    </tr>\n",
       "    <tr>\n",
       "      <th>451</th>\n",
       "      <td>True</td>\n",
       "      <td>0.692904</td>\n",
       "      <td>-0.798240</td>\n",
       "      <td>-1.164697</td>\n",
       "      <td>-0.612475</td>\n",
       "      <td>-1.600790</td>\n",
       "      <td>0.386811</td>\n",
       "      <td>True</td>\n",
       "    </tr>\n",
       "  </tbody>\n",
       "</table>\n",
       "</div>"
      ],
      "text/plain": [
       "      is_genuine  diagonal  height_left  height_right  margin_low  margin_up   \n",
       "1116       False  0.985771    -0.432900      0.613193    0.786137   1.161177  \\\n",
       "1368       False -0.999222     0.962034      1.410179    1.789489   0.384374   \n",
       "422         True -1.389712    -1.661771     -0.888817   -0.658082  -0.823987   \n",
       "413         True  1.115935    -1.230006     -1.287310   -0.487741   0.039128   \n",
       "451         True  0.692904    -0.798240     -1.164697   -0.612475  -1.600790   \n",
       "\n",
       "        length  cluster_pred_test  \n",
       "1116 -1.615898              False  \n",
       "1368 -0.443858              False  \n",
       "422   0.079577               True  \n",
       "413   0.295779               True  \n",
       "451   0.386811               True  "
      ]
     },
     "execution_count": 60,
     "metadata": {},
     "output_type": "execute_result"
    }
   ],
   "source": [
    "# scale data\n",
    "x_test_scaled = std_scaler.transform(x_test)\n",
    "\n",
    "# create dataframe to store results\n",
    "clusters_test = pd.DataFrame(y_test)\n",
    "clusters_test[['diagonal', 'height_left', 'height_right', 'margin_low', 'margin_up',\n",
    "               'length']] = x_test_scaled\n",
    "\n",
    "# run K-means\n",
    "kmeans_2.fit_predict(x_test_scaled)\n",
    "labels_final_test = kmeans_2.labels_\n",
    "\n",
    "# add cluster number to each occurence in clusters_test dataframe\n",
    "clusters_test['cluster_pred_test'] = labels_final_test\n",
    "\n",
    "# Remplacer les valeurs de la colonne \"cluster_km_2\" par leur inverse\n",
    "clusters_test['cluster_pred_test'] = clusters_test['cluster_pred_test'].map({0: True, 1: False})\n",
    "clusters_test.head()"
   ]
  },
  {
   "cell_type": "markdown",
   "metadata": {},
   "source": [
    "### Matrice de confusion - 2 Clusters - test set"
   ]
  },
  {
   "cell_type": "code",
   "execution_count": 61,
   "metadata": {},
   "outputs": [
    {
     "data": {
      "image/png": "[encoded data removed]",
      "text/plain": [
       "<Figure size 800x800 with 2 Axes>"
      ]
     },
     "metadata": {},
     "output_type": "display_data"
    },
    {
     "name": "stdout",
     "output_type": "stream",
     "text": [
      "              precision    recall  f1-score   support\n",
      "\n",
      "       False       0.97      0.99      0.98       110\n",
      "        True       0.99      0.98      0.99       190\n",
      "\n",
      "    accuracy                           0.99       300\n",
      "   macro avg       0.98      0.99      0.99       300\n",
      "weighted avg       0.99      0.99      0.99       300\n",
      "\n"
     ]
    }
   ],
   "source": [
    "matrice_confusion(clusters_test['is_genuine'], clusters_test['cluster_pred_test'], \"2_kmeans_Matrice_confusion-test set\")"
   ]
  },
  {
   "cell_type": "code",
   "execution_count": 62,
   "metadata": {},
   "outputs": [
    {
     "data": {
      "image/png": "[encoded data removed]",
      "text/plain": [
       "<Figure size 300x200 with 2 Axes>"
      ]
     },
     "metadata": {},
     "output_type": "display_data"
    }
   ],
   "source": [
    "# heatmap of confusion matrix\n",
    "conf_kmtest = confusion_matrix(clusters_test['is_genuine'], clusters_test['cluster_pred_test'])\n",
    "fig, ax = plt.subplots(figsize=(3, 2))\n",
    "conf_kmtest = pd.DataFrame(conf_kmtest)\n",
    "sns.heatmap(conf_kmtest, annot=True, cmap=\"bwr\", fmt='g')\n",
    "plt.title('Confusion matrix \\n K-means 2 clusters \\n testing set', fontsize=14, fontweight='bold')\n",
    "plt.ylabel('Actual label', fontsize=12)\n",
    "plt.xlabel('Predicted cluster', fontsize=12)\n",
    "plt.savefig(\"conf_matrix_kmtest.png\", bbox_inches='tight', pad_inches=0.5)\n",
    "plt.show()"
   ]
  },
  {
   "cell_type": "markdown",
   "metadata": {},
   "source": [
    "***********************************************************************"
   ]
  },
  {
   "cell_type": "markdown",
   "metadata": {},
   "source": [
    "### Performances du modèle 2 Clusters sur le jeu test"
   ]
  },
  {
   "cell_type": "code",
   "execution_count": 23,
   "metadata": {},
   "outputs": [
    {
     "name": "stdout",
     "output_type": "stream",
     "text": [
      "Rand score: 0.9736008918617615\n",
      "accuracy_score 0.9866666666666667\n",
      "Adjusted rand score: 0.9469816764574738\n",
      "MIB: 0.8958662114412843\n",
      "Adjusted MIB: 0.8956005456730549\n",
      "FM score: 0.9752062780873688\n"
     ]
    }
   ],
   "source": [
    "# calculate Rand score = (number of agreeing pairs) / (number of pairs)\n",
    "print(\"Rand score:\", rand_score(clusters_test['is_genuine'], clusters_test['cluster_pred_test']))\n",
    "print(\"accuracy_score\",accuracy_score(clusters_test['is_genuine'], clusters_test['cluster_pred_test']))\n",
    "# calculate adjusted Rand score. Perfect labeling would be scored 1 and bad labelling or independent labelling is scored\n",
    "# 0 or negative.\n",
    "print(\"Adjusted rand score:\", adjusted_rand_score(clusters_test['is_genuine'], clusters_test['cluster_pred_test']))\n",
    "\n",
    "print(\"MIB:\", normalized_mutual_info_score (clusters_test['is_genuine'], clusters_test['cluster_pred_test']))\n",
    "\n",
    "print(\"Adjusted MIB:\", adjusted_mutual_info_score(clusters_test['is_genuine'], clusters_test['cluster_pred_test']))\n",
    "\n",
    "print(\"FM score:\", fowlkes_mallows_score(clusters_test['is_genuine'], clusters_test['cluster_pred_test']))"
   ]
  },
  {
   "cell_type": "markdown",
   "metadata": {},
   "source": [
    "### Prediction sur l'echantillon de production avec l'algorithme de classification KMeans 2 Clusters"
   ]
  },
  {
   "cell_type": "code",
   "execution_count": 24,
   "metadata": {},
   "outputs": [
    {
     "name": "stdout",
     "output_type": "stream",
     "text": [
      "Pas de valeurs manquantes.\n",
      "Pas de valeurs nulles.\n",
      "Pas de doublons dans la table.\n"
     ]
    }
   ],
   "source": [
    "# Import data\n",
    "data_prod = pd.read_csv(\"billets_production.csv\", encoding='latin_1')\n",
    "\n",
    "# check for missing values\n",
    "if (data_prod.loc[data_prod.isna().any(axis=1) == True].shape[0]) != 0:\n",
    "    print(\"!!! Valeurs manquantes !!!\")\n",
    "else:\n",
    "    print (\"Pas de valeurs manquantes.\")\n",
    "# check for missing data\n",
    "if (data_prod.loc[data_prod.isnull().any(axis=1) == True].shape[0]) != 0:\n",
    "    print(\"!!! Valeurs nulles !!! \")\n",
    "else:\n",
    "    print (\"Pas de valeurs nulles.\")\n",
    "# check for duplicates\n",
    "if (data_prod.loc[data_prod.duplicated() == True].shape[0]) != 0:\n",
    "    print(\"!!! Doublons dans la table !!!\")\n",
    "else:\n",
    "    print (\"Pas de doublons dans la table.\")"
   ]
  },
  {
   "cell_type": "code",
   "execution_count": 81,
   "metadata": {},
   "outputs": [
    {
     "data": {
      "text/html": [
       "<div>\n",
       "<style scoped>\n",
       "    .dataframe tbody tr th:only-of-type {\n",
       "        vertical-align: middle;\n",
       "    }\n",
       "\n",
       "    .dataframe tbody tr th {\n",
       "        vertical-align: top;\n",
       "    }\n",
       "\n",
       "    .dataframe thead th {\n",
       "        text-align: right;\n",
       "    }\n",
       "</style>\n",
       "<table border=\"1\" class=\"dataframe\">\n",
       "  <thead>\n",
       "    <tr style=\"text-align: right;\">\n",
       "      <th></th>\n",
       "      <th>diagonal</th>\n",
       "      <th>height_left</th>\n",
       "      <th>height_right</th>\n",
       "      <th>margin_low</th>\n",
       "      <th>margin_up</th>\n",
       "      <th>length</th>\n",
       "      <th>id</th>\n",
       "      <th>cluster_prediction_prod</th>\n",
       "    </tr>\n",
       "  </thead>\n",
       "  <tbody>\n",
       "    <tr>\n",
       "      <th>0</th>\n",
       "      <td>171.76</td>\n",
       "      <td>104.01</td>\n",
       "      <td>103.54</td>\n",
       "      <td>5.21</td>\n",
       "      <td>3.30</td>\n",
       "      <td>111.42</td>\n",
       "      <td>A_1</td>\n",
       "      <td>0</td>\n",
       "    </tr>\n",
       "    <tr>\n",
       "      <th>1</th>\n",
       "      <td>171.87</td>\n",
       "      <td>104.17</td>\n",
       "      <td>104.13</td>\n",
       "      <td>6.00</td>\n",
       "      <td>3.31</td>\n",
       "      <td>112.09</td>\n",
       "      <td>A_2</td>\n",
       "      <td>0</td>\n",
       "    </tr>\n",
       "    <tr>\n",
       "      <th>2</th>\n",
       "      <td>172.00</td>\n",
       "      <td>104.58</td>\n",
       "      <td>104.29</td>\n",
       "      <td>4.99</td>\n",
       "      <td>3.39</td>\n",
       "      <td>111.57</td>\n",
       "      <td>A_3</td>\n",
       "      <td>0</td>\n",
       "    </tr>\n",
       "    <tr>\n",
       "      <th>3</th>\n",
       "      <td>172.49</td>\n",
       "      <td>104.55</td>\n",
       "      <td>104.34</td>\n",
       "      <td>4.44</td>\n",
       "      <td>3.03</td>\n",
       "      <td>113.20</td>\n",
       "      <td>A_4</td>\n",
       "      <td>0</td>\n",
       "    </tr>\n",
       "    <tr>\n",
       "      <th>4</th>\n",
       "      <td>171.65</td>\n",
       "      <td>103.63</td>\n",
       "      <td>103.56</td>\n",
       "      <td>3.77</td>\n",
       "      <td>3.16</td>\n",
       "      <td>113.33</td>\n",
       "      <td>A_5</td>\n",
       "      <td>1</td>\n",
       "    </tr>\n",
       "  </tbody>\n",
       "</table>\n",
       "</div>"
      ],
      "text/plain": [
       "   diagonal  height_left  height_right  margin_low  margin_up  length   id   \n",
       "0    171.76       104.01        103.54        5.21       3.30  111.42  A_1  \\\n",
       "1    171.87       104.17        104.13        6.00       3.31  112.09  A_2   \n",
       "2    172.00       104.58        104.29        4.99       3.39  111.57  A_3   \n",
       "3    172.49       104.55        104.34        4.44       3.03  113.20  A_4   \n",
       "4    171.65       103.63        103.56        3.77       3.16  113.33  A_5   \n",
       "\n",
       "   cluster_prediction_prod  \n",
       "0                        0  \n",
       "1                        0  \n",
       "2                        0  \n",
       "3                        0  \n",
       "4                        1  "
      ]
     },
     "execution_count": 81,
     "metadata": {},
     "output_type": "execute_result"
    }
   ],
   "source": [
    "# split file\n",
    "banknote_production = data_prod[['diagonal', 'height_left', 'height_right', 'margin_low',\n",
    "                      'margin_up', 'length']].values\n",
    "\n",
    "# scale data\n",
    "banknote_production = std_scaler.transform(banknote_production)\n",
    "\n",
    "# run K-means\n",
    "kmeans_2.fit_predict(banknote_production)\n",
    "labels_final = kmeans_2.labels_\n",
    "\n",
    "# add cluster number to each occurence in clusters dataframe\n",
    "data_prod['cluster_prediction_prod'] = labels_final\n",
    "\n",
    "data_prod"
   ]
  },
  {
   "cell_type": "markdown",
   "metadata": {},
   "source": [
    "**************************************************************************************************"
   ]
  }
 ],
 "metadata": {
  "kernelspec": {
   "display_name": "Python 3",
   "language": "python",
   "name": "python3"
  },
  "language_info": {
   "codemirror_mode": {
    "name": "ipython",
    "version": 3
   },
   "file_extension": ".py",
   "mimetype": "text/x-python",
   "name": "python",
   "nbconvert_exporter": "python",
   "pygments_lexer": "ipython3",
   "version": "3.11.2"
  }
 },
 "nbformat": 4,
 "nbformat_minor": 2
}
