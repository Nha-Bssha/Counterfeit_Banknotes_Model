{
 "cells": [
  {
   "cell_type": "code",
   "execution_count": 10,
   "metadata": {},
   "outputs": [],
   "source": [
    "# librairies\n",
    "\n",
    "# data\n",
    "import numpy as np\n",
    "import pandas as pd\n",
    "\n",
    "# modelisation\n",
    "from sklearn.preprocessing import StandardScaler\n",
    "from sklearn.linear_model import LogisticRegression\n",
    "from sklearn.metrics import confusion_matrix"
   ]
  },
  {
   "cell_type": "markdown",
   "metadata": {},
   "source": [
    "### <font color=\"lightgreen\">1. Import et vérification des données"
   ]
  },
  {
   "cell_type": "code",
   "execution_count": 15,
   "metadata": {},
   "outputs": [
    {
     "name": "stdout",
     "output_type": "stream",
     "text": [
      "Table test: \n",
      "\n",
      "Pas de valeurs manquantes.\n",
      "Pas de valeurs nulles.\n",
      "Pas de doublons.\n",
      "Format de donnees ok. \n",
      "\n",
      "Nous avons x_train_logreg de forme (1500, 4) et y_train de forme (1500,)\n",
      "True/False mix dans le training set pour la regression logistique:\n",
      " [[   0  500]\n",
      " [   1 1000]]\n",
      "Nous avons x_test_logreg de forme (5, 4).\n"
     ]
    }
   ],
   "source": [
    "# Importer\n",
    "data_prod = pd.read_csv(\"df_final.csv\")\n",
    "data_test = pd.read_csv(\"billets_test.csv\")  # check file name\n",
    "\n",
    "# split file - include only variables that are statistically significant for Logistic Regession (p-value < 5%)\n",
    "x_train_logreg = data_prod[['height_right', 'margin_low', 'margin_up', 'length']].values\n",
    "y_train = data_prod['is_genuine']\n",
    "x_prod_logreg = data_prod[['height_right', 'margin_low', 'margin_up', 'length']].values\n",
    "x_test_logreg = data_test[['height_right', 'margin_low', 'margin_up', 'length']].values\n",
    "\n",
    "# banknotes = data.index\n",
    "dimensions = data_prod.columns.drop('is_genuine')\n",
    "\n",
    "print(\"Table test: \\n\")\n",
    "# check for missing values in test dataframe\n",
    "if (data_test.loc[data_test.isna().any(axis=1) == True].shape[0]) != 0:\n",
    "    print(\"!!! Valeurs manquantes !!!\")\n",
    "else:\n",
    "    print (\"Pas de valeurs manquantes.\")\n",
    "# check for missing data in test dataframe\n",
    "if (data_test.loc[data_test.isnull().any(axis=1) == True].shape[0]) != 0:\n",
    "    print(\"!!! Valeurs nulles !!! \")\n",
    "else:\n",
    "    print (\"Pas de valeurs nulles.\")\n",
    "# check for duplicates in test dataframe\n",
    "if (data_test.loc[data_test.duplicated() == True].shape[0]) != 0:\n",
    "    print(\"!!! Doublons dans la table !!!\")\n",
    "else:\n",
    "    print (\"Pas de doublons.\")\n",
    "    \n",
    "# check for data input size\n",
    "if (data_test.shape != (5,7)):\n",
    "    print(\"Mauvais format de donnees.\")\n",
    "else:\n",
    "     print(\"Format de donnees ok. \\n\")\n",
    "\n",
    "print(f\"Nous avons x_train_logreg de forme {x_train_logreg.shape} et y_train de forme {y_train.shape}\")\n",
    "unique_yt, counts_yt = np.unique(y_train, return_counts=True)\n",
    "print(\"True/False mix dans le training set pour la regression logistique:\\n\", np.asarray((unique_yt, counts_yt)).T)\n",
    "print(f\"Nous avons x_test_logreg de forme {x_test_logreg.shape}.\")\n",
    "\n",
    "# center & reduce data\n",
    "std_scaler_logreg = StandardScaler()\n",
    "\n",
    "# fit StandardScaler on training set only to prevent data leakage\n",
    "x_train_logreg_scaled = std_scaler_logreg.fit_transform(x_train_logreg)\n",
    "\n",
    "# transformation test set with StandardScaler\n",
    "x_test_logreg_scaled = std_scaler_logreg.transform(x_test_logreg)"
   ]
  },
  {
   "cell_type": "markdown",
   "metadata": {},
   "source": [
    "### <font color=\"lightgreen\">2 - Détecteur par Régression Logistique</font>"
   ]
  },
  {
   "cell_type": "markdown",
   "metadata": {},
   "source": [
    "#### <font color='lightgreen'> 2.1 - Entrainement du modèle</font>"
   ]
  },
  {
   "cell_type": "code",
   "execution_count": 16,
   "metadata": {},
   "outputs": [
    {
     "name": "stderr",
     "output_type": "stream",
     "text": [
      "C:\\Users\\nbous\\AppData\\Roaming\\Python\\Python311\\site-packages\\sklearn\\linear_model\\_logistic.py:1181: UserWarning: Setting penalty=None will ignore the C and l1_ratio parameters\n",
      "  warnings.warn(\n"
     ]
    }
   ],
   "source": [
    "# fit model to train data using optimised hyper-parameters\n",
    "best_params_saga = {'C': 0.001, 'class_weight': None, 'max_iter': 500, 'penalty': None, 'random_state': 42,\n",
    "                    'solver': 'saga'}\n",
    "estimator_final = LogisticRegression(**best_params_saga)\n",
    "estimator_final.fit(x_train_logreg_scaled, y_train.values.ravel())\n",
    "y_pred_final = estimator_final.predict(x_train_logreg_scaled)"
   ]
  },
  {
   "cell_type": "markdown",
   "metadata": {},
   "source": [
    "#### <font color='lightgreen'> 2.2 - Application du modèle aux données de production</font>"
   ]
  },
  {
   "cell_type": "code",
   "execution_count": 17,
   "metadata": {},
   "outputs": [
    {
     "data": {
      "text/html": [
       "<div>\n",
       "<style scoped>\n",
       "    .dataframe tbody tr th:only-of-type {\n",
       "        vertical-align: middle;\n",
       "    }\n",
       "\n",
       "    .dataframe tbody tr th {\n",
       "        vertical-align: top;\n",
       "    }\n",
       "\n",
       "    .dataframe thead th {\n",
       "        text-align: right;\n",
       "    }\n",
       "</style>\n",
       "<table border=\"1\" class=\"dataframe\">\n",
       "  <thead>\n",
       "    <tr style=\"text-align: right;\">\n",
       "      <th></th>\n",
       "      <th>diagonal</th>\n",
       "      <th>height_left</th>\n",
       "      <th>height_right</th>\n",
       "      <th>margin_low</th>\n",
       "      <th>margin_up</th>\n",
       "      <th>length</th>\n",
       "      <th>id</th>\n",
       "      <th>proba</th>\n",
       "      <th>labels_pred_reglog</th>\n",
       "    </tr>\n",
       "  </thead>\n",
       "  <tbody>\n",
       "    <tr>\n",
       "      <th>0</th>\n",
       "      <td>172.09</td>\n",
       "      <td>103.95</td>\n",
       "      <td>103.73</td>\n",
       "      <td>4.39</td>\n",
       "      <td>3.09</td>\n",
       "      <td>113.19</td>\n",
       "      <td>B_1</td>\n",
       "      <td>9.991136e-01</td>\n",
       "      <td>True</td>\n",
       "    </tr>\n",
       "    <tr>\n",
       "      <th>1</th>\n",
       "      <td>171.52</td>\n",
       "      <td>104.17</td>\n",
       "      <td>104.03</td>\n",
       "      <td>5.27</td>\n",
       "      <td>3.16</td>\n",
       "      <td>111.82</td>\n",
       "      <td>B_2</td>\n",
       "      <td>3.382449e-04</td>\n",
       "      <td>False</td>\n",
       "    </tr>\n",
       "    <tr>\n",
       "      <th>2</th>\n",
       "      <td>171.78</td>\n",
       "      <td>103.80</td>\n",
       "      <td>103.75</td>\n",
       "      <td>3.81</td>\n",
       "      <td>3.24</td>\n",
       "      <td>113.39</td>\n",
       "      <td>B_3</td>\n",
       "      <td>9.999600e-01</td>\n",
       "      <td>True</td>\n",
       "    </tr>\n",
       "    <tr>\n",
       "      <th>3</th>\n",
       "      <td>172.02</td>\n",
       "      <td>104.08</td>\n",
       "      <td>103.99</td>\n",
       "      <td>5.57</td>\n",
       "      <td>3.30</td>\n",
       "      <td>111.10</td>\n",
       "      <td>B_4</td>\n",
       "      <td>2.034210e-07</td>\n",
       "      <td>False</td>\n",
       "    </tr>\n",
       "    <tr>\n",
       "      <th>4</th>\n",
       "      <td>171.79</td>\n",
       "      <td>104.34</td>\n",
       "      <td>104.37</td>\n",
       "      <td>5.00</td>\n",
       "      <td>3.07</td>\n",
       "      <td>111.87</td>\n",
       "      <td>B_5</td>\n",
       "      <td>2.232981e-03</td>\n",
       "      <td>False</td>\n",
       "    </tr>\n",
       "  </tbody>\n",
       "</table>\n",
       "</div>"
      ],
      "text/plain": [
       "   diagonal  height_left  height_right  margin_low  margin_up  length   id   \n",
       "0    172.09       103.95        103.73        4.39       3.09  113.19  B_1  \\\n",
       "1    171.52       104.17        104.03        5.27       3.16  111.82  B_2   \n",
       "2    171.78       103.80        103.75        3.81       3.24  113.39  B_3   \n",
       "3    172.02       104.08        103.99        5.57       3.30  111.10  B_4   \n",
       "4    171.79       104.34        104.37        5.00       3.07  111.87  B_5   \n",
       "\n",
       "          proba labels_pred_reglog  \n",
       "0  9.991136e-01               True  \n",
       "1  3.382449e-04              False  \n",
       "2  9.999600e-01               True  \n",
       "3  2.034210e-07              False  \n",
       "4  2.232981e-03              False  "
      ]
     },
     "execution_count": 17,
     "metadata": {},
     "output_type": "execute_result"
    }
   ],
   "source": [
    "# predict banknote type on test data\n",
    "results = data_test.copy()\n",
    "results['proba'] = estimator_final.predict_proba(x_test_logreg_scaled)[:, 1].ravel()\n",
    "results.loc[results['proba'] > 0.5, 'labels_pred_reglog'] = True\n",
    "results.loc[results['proba'] <= 0.5, 'labels_pred_reglog'] = False\n",
    "results"
   ]
  },
  {
   "cell_type": "markdown",
   "metadata": {},
   "source": [
    "#### <font color='lightgreen'> 2.3 - Impression des résultats</font>"
   ]
  },
  {
   "cell_type": "code",
   "execution_count": 18,
   "metadata": {},
   "outputs": [
    {
     "name": "stdout",
     "output_type": "stream",
     "text": [
      "Resultats:\n",
      "\n",
      "Le billet ref. B_1 est un vrai billet.\n",
      "Le billet ref. B_2 est un faux billet.\n",
      "Le billet ref. B_3 est un vrai billet.\n",
      "Le billet ref. B_4 est un faux billet.\n",
      "Le billet ref. B_5 est un faux billet.\n"
     ]
    }
   ],
   "source": [
    "# print results\n",
    "print(\"Resultats:\\n\")\n",
    "for i, j in zip(results[\"labels_pred_reglog\"], results[\"id\"]):\n",
    "    if i == 1:\n",
    "        print(f\"Le billet ref. {j} est un vrai billet.\")\n",
    "    else:\n",
    "        print(f\"Le billet ref. {j} est un faux billet.\")"
   ]
  }
 ],
 "metadata": {
  "kernelspec": {
   "display_name": "Python 3",
   "language": "python",
   "name": "python3"
  },
  "language_info": {
   "codemirror_mode": {
    "name": "ipython",
    "version": 3
   },
   "file_extension": ".py",
   "mimetype": "text/x-python",
   "name": "python",
   "nbconvert_exporter": "python",
   "pygments_lexer": "ipython3",
   "version": "3.11.2"
  }
 },
 "nbformat": 4,
 "nbformat_minor": 2
}
