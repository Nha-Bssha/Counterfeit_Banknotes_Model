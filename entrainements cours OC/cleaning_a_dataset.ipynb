{
 "cells": [
  {
   "cell_type": "markdown",
   "metadata": {},
   "source": [
    "### Améliorez un jeu de données"
   ]
  },
  {
   "cell_type": "markdown",
   "metadata": {},
   "source": [
    "- Ce qui est formidable avec ce dataset, hormis de pouvoir visualiser tous les arbres d'une ville comme Paris, c'est qu'il illustre parfaitement les principaux problèmes qu'un data scientist rencontre :\n",
    "\n",
    "    - des données manquantes ;\n",
    "\n",
    "    - des données aberrantes (outliers) ;\n",
    "\n",
    "    - des catégories trop nombreuses ou sous-représentées."
   ]
  },
  {
   "cell_type": "code",
   "execution_count": 44,
   "metadata": {},
   "outputs": [],
   "source": [
    "import pandas as pd\n",
    "import numpy as np\n",
    "\n",
    "import seaborn as sns\n",
    "import matplotlib as plt"
   ]
  },
  {
   "cell_type": "code",
   "execution_count": 45,
   "metadata": {},
   "outputs": [
    {
     "name": "stderr",
     "output_type": "stream",
     "text": [
      "C:\\Users\\nbous\\AppData\\Local\\Temp\\ipykernel_15344\\1757737780.py:1: DtypeWarning: Columns (0,4) have mixed types. Specify dtype option on import or set low_memory=False.\n",
      "  df = pd.read_csv(\"les-arbres.csv\")\n"
     ]
    },
    {
     "data": {
      "text/html": [
       "<div>\n",
       "<style scoped>\n",
       "    .dataframe tbody tr th:only-of-type {\n",
       "        vertical-align: middle;\n",
       "    }\n",
       "\n",
       "    .dataframe tbody tr th {\n",
       "        vertical-align: top;\n",
       "    }\n",
       "\n",
       "    .dataframe thead th {\n",
       "        text-align: right;\n",
       "    }\n",
       "</style>\n",
       "<table border=\"1\" class=\"dataframe\">\n",
       "  <thead>\n",
       "    <tr style=\"text-align: right;\">\n",
       "      <th></th>\n",
       "      <th>idbase</th>\n",
       "      <th>domanialite</th>\n",
       "      <th>arrondissement</th>\n",
       "      <th>complement_adresse</th>\n",
       "      <th>numero</th>\n",
       "      <th>lieu_adresse</th>\n",
       "      <th>idemplacement</th>\n",
       "      <th>libelle_francais</th>\n",
       "      <th>genre</th>\n",
       "      <th>espece</th>\n",
       "      <th>variete_oucultivar</th>\n",
       "      <th>circonference_cm</th>\n",
       "      <th>hauteur_m</th>\n",
       "      <th>stade_de_developpement</th>\n",
       "      <th>remarquable</th>\n",
       "      <th>geo_point_2d</th>\n",
       "    </tr>\n",
       "  </thead>\n",
       "  <tbody>\n",
       "    <tr>\n",
       "      <th>0</th>\n",
       "      <td>256032</td>\n",
       "      <td>Alignement</td>\n",
       "      <td>PARIS 14E ARRDT</td>\n",
       "      <td>NaN</td>\n",
       "      <td>NaN</td>\n",
       "      <td>RUE VERCINGETORIX</td>\n",
       "      <td>000602025</td>\n",
       "      <td>Erable</td>\n",
       "      <td>Acer</td>\n",
       "      <td>pseudoplatanus</td>\n",
       "      <td>''Atropurpureum''</td>\n",
       "      <td>70.0</td>\n",
       "      <td>6.0</td>\n",
       "      <td>Jeune (arbre)</td>\n",
       "      <td>NON</td>\n",
       "      <td>48.83154687478726, 2.3093726893065596</td>\n",
       "    </tr>\n",
       "    <tr>\n",
       "      <th>1</th>\n",
       "      <td>281618</td>\n",
       "      <td>Alignement</td>\n",
       "      <td>PARIS 8E ARRDT</td>\n",
       "      <td>NaN</td>\n",
       "      <td>NaN</td>\n",
       "      <td>AVENUE DES CHAMPS ELYSEES</td>\n",
       "      <td>000305044</td>\n",
       "      <td>Marronnier</td>\n",
       "      <td>Aesculus</td>\n",
       "      <td>hippocastanum</td>\n",
       "      <td>''Baumannii''</td>\n",
       "      <td>20.0</td>\n",
       "      <td>4.0</td>\n",
       "      <td>Jeune (arbre)</td>\n",
       "      <td>NON</td>\n",
       "      <td>48.86665704304558, 2.3162802812024443</td>\n",
       "    </tr>\n",
       "    <tr>\n",
       "      <th>2</th>\n",
       "      <td>302647</td>\n",
       "      <td>Jardin</td>\n",
       "      <td>PARIS 8E ARRDT</td>\n",
       "      <td>Secteur Kiosque</td>\n",
       "      <td>NaN</td>\n",
       "      <td>JARDINS DES CHAMPS ELYSEES - ABORDS DU KIOSQUE...</td>\n",
       "      <td>000109003</td>\n",
       "      <td>If</td>\n",
       "      <td>Taxus</td>\n",
       "      <td>baccata</td>\n",
       "      <td>NaN</td>\n",
       "      <td>50.0</td>\n",
       "      <td>5.0</td>\n",
       "      <td>Jeune (arbre)Adulte</td>\n",
       "      <td>NON</td>\n",
       "      <td>48.86594098488487, 2.3177825326579695</td>\n",
       "    </tr>\n",
       "    <tr>\n",
       "      <th>3</th>\n",
       "      <td>238226</td>\n",
       "      <td>Alignement</td>\n",
       "      <td>PARIS 12E ARRDT</td>\n",
       "      <td>37</td>\n",
       "      <td>NaN</td>\n",
       "      <td>AVENUE DE SAINT MANDE</td>\n",
       "      <td>000501020</td>\n",
       "      <td>Platane</td>\n",
       "      <td>Platanus</td>\n",
       "      <td>x hispanica</td>\n",
       "      <td>NaN</td>\n",
       "      <td>30.0</td>\n",
       "      <td>5.0</td>\n",
       "      <td>Jeune (arbre)</td>\n",
       "      <td>NON</td>\n",
       "      <td>48.84515461889761, 2.4008303350818525</td>\n",
       "    </tr>\n",
       "    <tr>\n",
       "      <th>4</th>\n",
       "      <td>110978</td>\n",
       "      <td>Jardin</td>\n",
       "      <td>PARIS 19E ARRDT</td>\n",
       "      <td>NaN</td>\n",
       "      <td>NaN</td>\n",
       "      <td>PARC DES BUTTES CHAUMONT</td>\n",
       "      <td>K69K0040</td>\n",
       "      <td>Pin</td>\n",
       "      <td>Pinus</td>\n",
       "      <td>nigra</td>\n",
       "      <td>NaN</td>\n",
       "      <td>100.0</td>\n",
       "      <td>10.0</td>\n",
       "      <td>NaN</td>\n",
       "      <td>NaN</td>\n",
       "      <td>48.87971709048107, 2.3797109748696337</td>\n",
       "    </tr>\n",
       "  </tbody>\n",
       "</table>\n",
       "</div>"
      ],
      "text/plain": [
       "   idbase domanialite   arrondissement complement_adresse numero   \n",
       "0  256032  Alignement  PARIS 14E ARRDT                NaN    NaN  \\\n",
       "1  281618  Alignement   PARIS 8E ARRDT                NaN    NaN   \n",
       "2  302647      Jardin   PARIS 8E ARRDT    Secteur Kiosque    NaN   \n",
       "3  238226  Alignement  PARIS 12E ARRDT                 37    NaN   \n",
       "4  110978      Jardin  PARIS 19E ARRDT                NaN    NaN   \n",
       "\n",
       "                                        lieu_adresse idemplacement   \n",
       "0                                  RUE VERCINGETORIX     000602025  \\\n",
       "1                          AVENUE DES CHAMPS ELYSEES     000305044   \n",
       "2  JARDINS DES CHAMPS ELYSEES - ABORDS DU KIOSQUE...     000109003   \n",
       "3                              AVENUE DE SAINT MANDE     000501020   \n",
       "4                           PARC DES BUTTES CHAUMONT      K69K0040   \n",
       "\n",
       "  libelle_francais     genre          espece variete_oucultivar   \n",
       "0           Erable      Acer  pseudoplatanus  ''Atropurpureum''  \\\n",
       "1       Marronnier  Aesculus   hippocastanum      ''Baumannii''   \n",
       "2               If     Taxus         baccata                NaN   \n",
       "3          Platane  Platanus     x hispanica                NaN   \n",
       "4              Pin     Pinus           nigra                NaN   \n",
       "\n",
       "   circonference_cm  hauteur_m stade_de_developpement remarquable   \n",
       "0              70.0        6.0          Jeune (arbre)         NON  \\\n",
       "1              20.0        4.0          Jeune (arbre)         NON   \n",
       "2              50.0        5.0    Jeune (arbre)Adulte         NON   \n",
       "3              30.0        5.0          Jeune (arbre)         NON   \n",
       "4             100.0       10.0                    NaN         NaN   \n",
       "\n",
       "                            geo_point_2d  \n",
       "0  48.83154687478726, 2.3093726893065596  \n",
       "1  48.86665704304558, 2.3162802812024443  \n",
       "2  48.86594098488487, 2.3177825326579695  \n",
       "3  48.84515461889761, 2.4008303350818525  \n",
       "4  48.87971709048107, 2.3797109748696337  "
      ]
     },
     "execution_count": 45,
     "metadata": {},
     "output_type": "execute_result"
    }
   ],
   "source": [
    "df = pd.read_csv(\"les-arbres.csv\")\n",
    "df.head()"
   ]
  },
  {
   "cell_type": "code",
   "execution_count": 46,
   "metadata": {},
   "outputs": [
    {
     "data": {
      "text/html": [
       "<div>\n",
       "<style scoped>\n",
       "    .dataframe tbody tr th:only-of-type {\n",
       "        vertical-align: middle;\n",
       "    }\n",
       "\n",
       "    .dataframe tbody tr th {\n",
       "        vertical-align: top;\n",
       "    }\n",
       "\n",
       "    .dataframe thead th {\n",
       "        text-align: right;\n",
       "    }\n",
       "</style>\n",
       "<table border=\"1\" class=\"dataframe\">\n",
       "  <thead>\n",
       "    <tr style=\"text-align: right;\">\n",
       "      <th></th>\n",
       "      <th>idbase</th>\n",
       "      <th>domanialite</th>\n",
       "      <th>arrondissement</th>\n",
       "      <th>complement_adresse</th>\n",
       "      <th>numero</th>\n",
       "      <th>lieu_adresse</th>\n",
       "      <th>idemplacement</th>\n",
       "      <th>libelle_francais</th>\n",
       "      <th>genre</th>\n",
       "      <th>espece</th>\n",
       "      <th>variete_oucultivar</th>\n",
       "      <th>circonference_cm</th>\n",
       "      <th>hauteur_m</th>\n",
       "      <th>stade_de_developpement</th>\n",
       "      <th>remarquable</th>\n",
       "      <th>geo_point_2d</th>\n",
       "    </tr>\n",
       "  </thead>\n",
       "  <tbody>\n",
       "    <tr>\n",
       "      <th>3</th>\n",
       "      <td>238226</td>\n",
       "      <td>Alignement</td>\n",
       "      <td>PARIS 12E ARRDT</td>\n",
       "      <td>37</td>\n",
       "      <td>NaN</td>\n",
       "      <td>AVENUE DE SAINT MANDE</td>\n",
       "      <td>000501020</td>\n",
       "      <td>Platane</td>\n",
       "      <td>Platanus</td>\n",
       "      <td>x hispanica</td>\n",
       "      <td>NaN</td>\n",
       "      <td>30.0</td>\n",
       "      <td>5.0</td>\n",
       "      <td>Jeune (arbre)</td>\n",
       "      <td>NON</td>\n",
       "      <td>48.84515461889761, 2.4008303350818525</td>\n",
       "    </tr>\n",
       "    <tr>\n",
       "      <th>9</th>\n",
       "      <td>289464</td>\n",
       "      <td>Alignement</td>\n",
       "      <td>PARIS 12E ARRDT</td>\n",
       "      <td>NaN</td>\n",
       "      <td>NaN</td>\n",
       "      <td>AVENUE LEDRU ROLLIN</td>\n",
       "      <td>000402007</td>\n",
       "      <td>Platane</td>\n",
       "      <td>Platanus</td>\n",
       "      <td>x hispanica</td>\n",
       "      <td>NaN</td>\n",
       "      <td>60.0</td>\n",
       "      <td>10.0</td>\n",
       "      <td>Adulte</td>\n",
       "      <td>NON</td>\n",
       "      <td>48.84717970255216, 2.37017013054543</td>\n",
       "    </tr>\n",
       "    <tr>\n",
       "      <th>10</th>\n",
       "      <td>221701</td>\n",
       "      <td>Alignement</td>\n",
       "      <td>PARIS 16E ARRDT</td>\n",
       "      <td>NaN</td>\n",
       "      <td>NaN</td>\n",
       "      <td>BOULEVARD DE L AMIRAL BRUIX</td>\n",
       "      <td>000705007</td>\n",
       "      <td>Platane</td>\n",
       "      <td>Platanus</td>\n",
       "      <td>x hispanica</td>\n",
       "      <td>NaN</td>\n",
       "      <td>68.0</td>\n",
       "      <td>10.0</td>\n",
       "      <td>Jeune (arbre)Adulte</td>\n",
       "      <td>NON</td>\n",
       "      <td>48.87428152523608, 2.2783797113253454</td>\n",
       "    </tr>\n",
       "  </tbody>\n",
       "</table>\n",
       "</div>"
      ],
      "text/plain": [
       "    idbase domanialite   arrondissement complement_adresse numero   \n",
       "3   238226  Alignement  PARIS 12E ARRDT                 37    NaN  \\\n",
       "9   289464  Alignement  PARIS 12E ARRDT                NaN    NaN   \n",
       "10  221701  Alignement  PARIS 16E ARRDT                NaN    NaN   \n",
       "\n",
       "                   lieu_adresse idemplacement libelle_francais     genre   \n",
       "3         AVENUE DE SAINT MANDE     000501020          Platane  Platanus  \\\n",
       "9           AVENUE LEDRU ROLLIN     000402007          Platane  Platanus   \n",
       "10  BOULEVARD DE L AMIRAL BRUIX     000705007          Platane  Platanus   \n",
       "\n",
       "         espece variete_oucultivar  circonference_cm  hauteur_m   \n",
       "3   x hispanica                NaN              30.0        5.0  \\\n",
       "9   x hispanica                NaN              60.0       10.0   \n",
       "10  x hispanica                NaN              68.0       10.0   \n",
       "\n",
       "   stade_de_developpement remarquable                           geo_point_2d  \n",
       "3           Jeune (arbre)         NON  48.84515461889761, 2.4008303350818525  \n",
       "9                  Adulte         NON    48.84717970255216, 2.37017013054543  \n",
       "10    Jeune (arbre)Adulte         NON  48.87428152523608, 2.2783797113253454  "
      ]
     },
     "execution_count": 46,
     "metadata": {},
     "output_type": "execute_result"
    }
   ],
   "source": [
    "df = df[df.libelle_francais == 'Platane'].copy()\n",
    "df.head(3)"
   ]
  },
  {
   "cell_type": "code",
   "execution_count": 47,
   "metadata": {},
   "outputs": [
    {
     "data": {
      "text/plain": [
       "idbase                        0\n",
       "domanialite                   0\n",
       "arrondissement                0\n",
       "complement_adresse        27279\n",
       "numero                    42588\n",
       "lieu_adresse                  0\n",
       "idemplacement                 0\n",
       "libelle_francais              0\n",
       "genre                         0\n",
       "espece                        4\n",
       "variete_oucultivar        42328\n",
       "circonference_cm              0\n",
       "hauteur_m                     0\n",
       "stade_de_developpement     3350\n",
       "remarquable                1236\n",
       "geo_point_2d                  0\n",
       "dtype: int64"
      ]
     },
     "execution_count": 47,
     "metadata": {},
     "output_type": "execute_result"
    }
   ],
   "source": [
    "df.isnull().sum()\n"
   ]
  },
  {
   "cell_type": "code",
   "execution_count": 48,
   "metadata": {},
   "outputs": [
    {
     "data": {
      "text/plain": [
       "stade_de_developpement\n",
       "Adulte                 21620\n",
       "Jeune (arbre)           5916\n",
       "Jeune (arbre)Adulte     8356\n",
       "Mature                  3346\n",
       "Name: stade_de_developpement, dtype: int64"
      ]
     },
     "execution_count": 48,
     "metadata": {},
     "output_type": "execute_result"
    }
   ],
   "source": [
    "# Compter les valeurs manquantes par stade_de_developpement\n",
    "missing_values_by_stade = df.groupby('stade_de_developpement')['stade_de_developpement'].apply(lambda x: len(x.values))\n",
    "\n",
    "missing_values_by_stade"
   ]
  },
  {
   "cell_type": "code",
   "execution_count": 49,
   "metadata": {},
   "outputs": [
    {
     "name": "stdout",
     "output_type": "stream",
     "text": [
      "  stade_de_developpement  compte\n",
      "0                 Adulte   21620\n",
      "1          Jeune (arbre)    5916\n",
      "2    Jeune (arbre)Adulte    8356\n",
      "3                 Mature    3346\n",
      "4                    NAN    3350\n"
     ]
    }
   ],
   "source": [
    "# Calculer le nombre total de NAN dans la colonne stade_de_developpement\n",
    "total_nan = df['stade_de_developpement'].isnull().sum()\n",
    "\n",
    "# Créer un DataFrame pour stocker les comptages par catégorie de stade_de_developpement\n",
    "comptages_par_stade = df.groupby('stade_de_developpement').size().reset_index(name='compte')\n",
    "\n",
    "# Créer un DataFrame pour les valeurs manquantes\n",
    "nan_df = pd.DataFrame([{'stade_de_developpement': 'NAN', 'compte': total_nan}])\n",
    "\n",
    "# Concaténer les deux DataFrames\n",
    "comptages_par_stade = pd.concat([comptages_par_stade, nan_df], ignore_index=True)\n",
    "\n",
    "# Afficher le DataFrame avec le compte des NAN\n",
    "print(comptages_par_stade)\n"
   ]
  },
  {
   "cell_type": "markdown",
   "metadata": {},
   "source": [
    "On suppose que la valeur  Jeune (arbre)Adulte  n'est pas une erreur de saisie mais plutôt une valeur intermédiaire entre les catégories  Jeune (arbre)  et  Adulte  . On a donc la graduation :  Jeune (arbre)  , Jeune (arbre)Adulte, Adultepuis  Mature  .\n",
    "\n",
    "    - À ce stade on peut choisir de simplement supprimer tous les échantillons pour lesquels la valeur  stade_de_developpement  est absente. Cela ne concerne que 7,8 % des données.\n",
    "\n",
    "    - On peut aussi essayer de remédier aux valeurs manquantes en observant la relation entre les mesures des arbres et leur stade de développement. \n",
    "    \n",
    "    - Notre hypothèse est que les arbres  Jeune  ou  Mature  sont nettement plus petits que les arbres  Adulte  .\n",
    "\n",
    "Le boxplot montre la répartition de la hauteur et de la circonférence par stade de développement."
   ]
  },
  {
   "cell_type": "code",
   "execution_count": 59,
   "metadata": {},
   "outputs": [
    {
     "data": {
      "image/png": "[encoded data removed]",
      "text/plain": [
       "<Figure size 640x480 with 1 Axes>"
      ]
     },
     "metadata": {},
     "output_type": "display_data"
    }
   ],
   "source": [
    "import seaborn as sns\n",
    "import matplotlib.pyplot as plt\n",
    "\n",
    "# Créer le boxplot\n",
    "sns.boxplot(data=df, y=\"circonference_cm\", x=\"stade_de_developpement\")\n",
    "\n",
    "# Spécifier les limites de l'axe y (circonference_cm)\n",
    "plt.ylim(bottom=0, top=400)  # Tu peux ajuster les limites selon tes besoins\n",
    "\n",
    "# Afficher le graphique\n",
    "plt.show()\n"
   ]
  },
  {
   "cell_type": "code",
   "execution_count": 61,
   "metadata": {},
   "outputs": [
    {
     "data": {
      "image/png": "[encoded data removed]",
      "text/plain": [
       "<Figure size 640x480 with 1 Axes>"
      ]
     },
     "metadata": {},
     "output_type": "display_data"
    }
   ],
   "source": [
    "import seaborn as sns\n",
    "import matplotlib.pyplot as plt\n",
    "\n",
    "# Créer le boxplot\n",
    "sns.boxplot(data=df, y=\"hauteur_m\", x=\"stade_de_developpement\")\n",
    "\n",
    "# Spécifier les limites de l'axe y (circonference_cm)\n",
    "plt.ylim(bottom=0, top=40)  # Tu peux ajuster les limites selon tes besoins\n",
    "\n",
    "# Afficher le graphique\n",
    "plt.show()\n"
   ]
  },
  {
   "cell_type": "markdown",
   "metadata": {},
   "source": [
    "Outliers"
   ]
  },
  {
   "cell_type": "code",
   "execution_count": null,
   "metadata": {},
   "outputs": [],
   "source": []
  }
 ],
 "metadata": {
  "kernelspec": {
   "display_name": "Python 3",
   "language": "python",
   "name": "python3"
  },
  "language_info": {
   "codemirror_mode": {
    "name": "ipython",
    "version": 3
   },
   "file_extension": ".py",
   "mimetype": "text/x-python",
   "name": "python",
   "nbconvert_exporter": "python",
   "pygments_lexer": "ipython3",
   "version": "3.11.2"
  }
 },
 "nbformat": 4,
 "nbformat_minor": 2
}
