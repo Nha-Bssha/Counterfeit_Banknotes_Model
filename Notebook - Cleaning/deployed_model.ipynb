{
 "cells": [
  {
   "cell_type": "code",
   "execution_count": 4,
   "metadata": {},
   "outputs": [],
   "source": [
    "# Import des librairies utiliser\n",
    "\n",
    "import pandas as pd\n",
    "import matplotlib.pyplot as plt\n",
    "import seaborn as sns\n",
    "import sklearn as sk\n",
    "from sklearn.decomposition import PCA\n",
    "import pickle\n",
    "import csv"
   ]
  },
  {
   "cell_type": "code",
   "execution_count": 5,
   "metadata": {},
   "outputs": [
    {
     "data": {
      "text/html": [
       "<div>\n",
       "<style scoped>\n",
       "    .dataframe tbody tr th:only-of-type {\n",
       "        vertical-align: middle;\n",
       "    }\n",
       "\n",
       "    .dataframe tbody tr th {\n",
       "        vertical-align: top;\n",
       "    }\n",
       "\n",
       "    .dataframe thead th {\n",
       "        text-align: right;\n",
       "    }\n",
       "</style>\n",
       "<table border=\"1\" class=\"dataframe\">\n",
       "  <thead>\n",
       "    <tr style=\"text-align: right;\">\n",
       "      <th></th>\n",
       "      <th>diagonal</th>\n",
       "      <th>height_left</th>\n",
       "      <th>height_right</th>\n",
       "      <th>margin_low</th>\n",
       "      <th>margin_up</th>\n",
       "      <th>length</th>\n",
       "      <th>id</th>\n",
       "    </tr>\n",
       "  </thead>\n",
       "  <tbody>\n",
       "    <tr>\n",
       "      <th>0</th>\n",
       "      <td>171.76</td>\n",
       "      <td>104.01</td>\n",
       "      <td>103.54</td>\n",
       "      <td>5.21</td>\n",
       "      <td>3.30</td>\n",
       "      <td>111.42</td>\n",
       "      <td>A_1</td>\n",
       "    </tr>\n",
       "    <tr>\n",
       "      <th>1</th>\n",
       "      <td>171.87</td>\n",
       "      <td>104.17</td>\n",
       "      <td>104.13</td>\n",
       "      <td>6.00</td>\n",
       "      <td>3.31</td>\n",
       "      <td>112.09</td>\n",
       "      <td>A_2</td>\n",
       "    </tr>\n",
       "    <tr>\n",
       "      <th>2</th>\n",
       "      <td>172.00</td>\n",
       "      <td>104.58</td>\n",
       "      <td>104.29</td>\n",
       "      <td>4.99</td>\n",
       "      <td>3.39</td>\n",
       "      <td>111.57</td>\n",
       "      <td>A_3</td>\n",
       "    </tr>\n",
       "    <tr>\n",
       "      <th>3</th>\n",
       "      <td>172.49</td>\n",
       "      <td>104.55</td>\n",
       "      <td>104.34</td>\n",
       "      <td>4.44</td>\n",
       "      <td>3.03</td>\n",
       "      <td>113.20</td>\n",
       "      <td>A_4</td>\n",
       "    </tr>\n",
       "    <tr>\n",
       "      <th>4</th>\n",
       "      <td>171.65</td>\n",
       "      <td>103.63</td>\n",
       "      <td>103.56</td>\n",
       "      <td>3.77</td>\n",
       "      <td>3.16</td>\n",
       "      <td>113.33</td>\n",
       "      <td>A_5</td>\n",
       "    </tr>\n",
       "  </tbody>\n",
       "</table>\n",
       "</div>"
      ],
      "text/plain": [
       "   diagonal  height_left  height_right  margin_low  margin_up  length   id\n",
       "0    171.76       104.01        103.54        5.21       3.30  111.42  A_1\n",
       "1    171.87       104.17        104.13        6.00       3.31  112.09  A_2\n",
       "2    172.00       104.58        104.29        4.99       3.39  111.57  A_3\n",
       "3    172.49       104.55        104.34        4.44       3.03  113.20  A_4\n",
       "4    171.65       103.63        103.56        3.77       3.16  113.33  A_5"
      ]
     },
     "execution_count": 5,
     "metadata": {},
     "output_type": "execute_result"
    }
   ],
   "source": [
    "# Visualisation des données du fichier\n",
    "pd.read_csv('billets_production.csv')"
   ]
  },
  {
   "cell_type": "code",
   "execution_count": 2,
   "metadata": {},
   "outputs": [
    {
     "ename": "NameError",
     "evalue": "name 'std_scale' is not defined",
     "output_type": "error",
     "traceback": [
      "\u001b[1;31m---------------------------------------------------------------------------\u001b[0m",
      "\u001b[1;31mNameError\u001b[0m                                 Traceback (most recent call last)",
      "Cell \u001b[1;32mIn[2], line 4\u001b[0m\n\u001b[0;32m      1\u001b[0m \u001b[38;5;66;03m# On enregistre les données d'entrainement dans un dictionnaire\u001b[39;00m\n\u001b[0;32m      3\u001b[0m data_train \u001b[38;5;241m=\u001b[39m {}\n\u001b[1;32m----> 4\u001b[0m data_train[\u001b[38;5;241m0\u001b[39m] \u001b[38;5;241m=\u001b[39m \u001b[43mstd_scale\u001b[49m\n\u001b[0;32m      5\u001b[0m data_train[\u001b[38;5;241m1\u001b[39m] \u001b[38;5;241m=\u001b[39m pca\n\u001b[0;32m      6\u001b[0m data_train[\u001b[38;5;241m2\u001b[39m] \u001b[38;5;241m=\u001b[39m regression\n",
      "\u001b[1;31mNameError\u001b[0m: name 'std_scale' is not defined"
     ]
    }
   ],
   "source": [
    "# On enregistre les données d'entrainement dans un dictionnaire\n",
    "\n",
    "data_train = {}\n",
    "data_train[0] = std_scaler\n",
    "data_train[1] = pca\n",
    "data_train[2] = \n",
    "data_train"
   ]
  },
  {
   "cell_type": "code",
   "execution_count": 1,
   "metadata": {},
   "outputs": [
    {
     "ename": "NameError",
     "evalue": "name 'data_train' is not defined",
     "output_type": "error",
     "traceback": [
      "\u001b[1;31m---------------------------------------------------------------------------\u001b[0m",
      "\u001b[1;31mNameError\u001b[0m                                 Traceback (most recent call last)",
      "Cell \u001b[1;32mIn[1], line 4\u001b[0m\n\u001b[0;32m      1\u001b[0m \u001b[38;5;28;01mimport\u001b[39;00m \u001b[38;5;21;01mpickle\u001b[39;00m\n\u001b[0;32m      3\u001b[0m file \u001b[38;5;241m=\u001b[39m \u001b[38;5;28mopen\u001b[39m(\u001b[38;5;124m'\u001b[39m\u001b[38;5;124mtrain\u001b[39m\u001b[38;5;124m'\u001b[39m, \u001b[38;5;124m'\u001b[39m\u001b[38;5;124mwb\u001b[39m\u001b[38;5;124m'\u001b[39m)\n\u001b[1;32m----> 4\u001b[0m pickle\u001b[38;5;241m.\u001b[39mdump(\u001b[43mdata_train\u001b[49m, file)\n\u001b[0;32m      5\u001b[0m file\u001b[38;5;241m.\u001b[39mclose()\n",
      "\u001b[1;31mNameError\u001b[0m: name 'data_train' is not defined"
     ]
    }
   ],
   "source": [
    "import pickle\n",
    "\n",
    "file = open('train', 'wb')\n",
    "pickle.dump(data_train, file)\n",
    "file.close()"
   ]
  },
  {
   "cell_type": "code",
   "execution_count": null,
   "metadata": {},
   "outputs": [],
   "source": [
    "# Fonction de detection de faux billets\n",
    "\n",
    "def detection_billets(fichier_csv):\n",
    "    \n",
    "    # Import des données d'entrainement\n",
    "    file = open('train', 'rb')\n",
    "    data_train = pickle.load(file)\n",
    "    file.close()\n",
    "    std_scale = data_train[0]\n",
    "    pca = data_train[1]\n",
    "    regression = data_train[2]\n",
    "    \n",
    "    # Import des données du fichier\n",
    "    data = pd.read_csv(fichier_csv)\n",
    "    X_csv = data.drop(['id'], axis=1) # On ne prend pas l'ID\n",
    "    X_csv = pd.DataFrame(std_scale.transform(X_csv), columns=X_csv.columns) # Standardisation des données\n",
    "    \n",
    "    # Regression logistique\n",
    "    y_log = regression.predict(X_csv)\n",
    "    pred = pd.DataFrame(y_log)\n",
    "    pred = pred.rename(columns={0: 'Prédiction'})\n",
    "    pred = pred.replace({False: 'Faux billet', True: 'Vrais billet'})\n",
    "    \n",
    "    y_proba = regression.predict_proba(X_csv)\n",
    "    proba = pd.DataFrame(y_proba)\n",
    "    proba = proba.rename(columns={0: 'Probabilité de faux', 1: 'Probabilité de vrais'})\n",
    "    \n",
    "    # Concaténation des données\n",
    "    prediction = pd.concat([pred, proba], axis = 1)\n",
    "    res = pd.concat([prediction, data], axis = 1)\n",
    "    \n",
    "    # Recherche des billets à revérifier, car probabilité de Vrais ou Faux infèrieur à 90% !\n",
    "    verif_billet = res.loc[(res['Probabilité de vrais'] > 0.10) & (res['Probabilité de vrais'] < 0.90)]\n",
    "    \n",
    "    # Création d'un fichier CSV avec les résultats\n",
    "    res.to_csv('Resultats_Detections_Billets.csv', index = True)\n",
    "    \n",
    "    # Création d'un fichier CSV avec les billets à revérifier si il y en a !\n",
    "    if(len(verif_billet)>0):\n",
    "        verif_billet.to_csv('Billets_à_Vérifier.csv', index = True)\n",
    "    \n",
    "    return(res)"
   ]
  },
  {
   "cell_type": "code",
   "execution_count": null,
   "metadata": {},
   "outputs": [],
   "source": [
    "detection_billets('checked_banknotes.csv')"
   ]
  }
 ],
 "metadata": {
  "kernelspec": {
   "display_name": "Python 3",
   "language": "python",
   "name": "python3"
  },
  "language_info": {
   "codemirror_mode": {
    "name": "ipython",
    "version": 3
   },
   "file_extension": ".py",
   "mimetype": "text/x-python",
   "name": "python",
   "nbconvert_exporter": "python",
   "pygments_lexer": "ipython3",
   "version": "3.11.2"
  }
 },
 "nbformat": 4,
 "nbformat_minor": 2
}
