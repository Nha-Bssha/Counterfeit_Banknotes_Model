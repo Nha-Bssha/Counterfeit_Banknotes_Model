{
 "cells": [
  {
   "cell_type": "code",
   "execution_count": 3,
   "metadata": {},
   "outputs": [],
   "source": [
    "# utilities\n",
    "import os\n",
    "os.environ[\"OMP_NUM_THREADS\"] = '1' # needed to avoid memory leak warning with K-Means in Windows environment\n",
    "from warnings import simplefilter\n",
    "simplefilter(action='ignore', category=FutureWarning) # ignore all future warnings\n",
    "\n",
    "# data\n",
    "import numpy as np\n",
    "import pandas as pd\n",
    "pd.set_option('display.max_colwidth', None) # maximise dataframe display\n",
    "\n",
    "# modelisation\n",
    "from sklearn.cluster import KMeans\n",
    "from sklearn.decomposition import PCA\n",
    "from sklearn.metrics import silhouette_score, davies_bouldin_score, confusion_matrix, accuracy_score\n",
    "from sklearn.preprocessing import StandardScaler\n",
    "from sklearn.model_selection import train_test_split\n",
    "from sklearn.metrics import rand_score\n",
    "from sklearn.metrics.cluster import adjusted_rand_score, normalized_mutual_info_score, adjusted_mutual_info_score, fowlkes_mallows_score\n",
    "\n",
    "# visualisation\n",
    "import matplotlib.pyplot as plt\n",
    "import plotly.graph_objects as go\n",
    "import seaborn as sns\n",
    "sns.set(rc={'figure.figsize':(8,8), 'axes.facecolor':'white', 'figure.facecolor':'gainsboro'})"
   ]
  },
  {
   "cell_type": "code",
   "execution_count": null,
   "metadata": {},
   "outputs": [],
   "source": [
    "# Import\n",
    "data = pd.read_csv('billets_final.csv')"
   ]
  },
  {
   "cell_type": "markdown",
   "metadata": {},
   "source": [
    "# 1 - K-means"
   ]
  },
  {
   "cell_type": "code",
   "execution_count": null,
   "metadata": {},
   "outputs": [],
   "source": [
    "# Import data & split file\n",
    "data = pd.read_csv('billets_final.csv', encoding='latin_1')\n",
    "\n",
    "# include all variables\n",
    "x = data[['diagonal', 'height_left', 'height_right', 'margin_low', 'margin_up', 'length']].values\n",
    "\n",
    "# include only variables that are statistically significant for Logistic Regession (p-value < 5%)\n",
    "# x = data[['height_right', 'margin_low', 'margin_up', 'length']].values\n",
    "\n",
    "# banknotes = data.index\n",
    "dimensions = data.columns.drop('is_genuine')\n",
    "\n",
    "# create train & test data sets\n",
    "y = data['is_genuine']\n",
    "x_train, x_test, y_train, y_test = train_test_split(x, y, test_size=0.2, random_state=42, shuffle=True, stratify=None)\n",
    "\n",
    "print(f\"Nous avons x_train de forme {x_train.shape} et y_train de forme {y_train.shape}\")\n",
    "unique_yt, counts_yt = np.unique(y_train, return_counts=True)\n",
    "print(\"True/False mix in training set:\\n\", np.asarray((unique_yt, counts_yt)).T)\n",
    "print(f\"Nous avons x_test de forme {x_test.shape} et y_test de forme {y_test.shape}\")\n",
    "unique_ytt, counts_ytt = np.unique(y_test, return_counts=True)\n",
    "print(\"True/False mix in testing set:\\n\", np.asarray((unique_ytt, counts_ytt)).T)"
   ]
  },
  {
   "cell_type": "code",
   "execution_count": null,
   "metadata": {},
   "outputs": [],
   "source": []
  },
  {
   "cell_type": "code",
   "execution_count": null,
   "metadata": {},
   "outputs": [],
   "source": []
  },
  {
   "cell_type": "code",
   "execution_count": null,
   "metadata": {},
   "outputs": [],
   "source": []
  }
 ],
 "metadata": {
  "kernelspec": {
   "display_name": "Python 3",
   "language": "python",
   "name": "python3"
  },
  "language_info": {
   "codemirror_mode": {
    "name": "ipython",
    "version": 3
   },
   "file_extension": ".py",
   "mimetype": "text/x-python",
   "name": "python",
   "nbconvert_exporter": "python",
   "pygments_lexer": "ipython3",
   "version": "3.11.2"
  }
 },
 "nbformat": 4,
 "nbformat_minor": 2
}
